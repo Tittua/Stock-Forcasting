{
  "cells": [
    {
      "cell_type": "markdown",
      "source": [
        "# Library"
      ],
      "metadata": {
        "id": "a0lOs2pTvFux"
      }
    },
    {
      "cell_type": "code",
      "execution_count": 1,
      "metadata": {
        "id": "yvu3D9Gb4qMW"
      },
      "outputs": [],
      "source": [
        "import pandas as pd\n",
        "import numpy as np\n",
        "import matplotlib.pyplot as plt\n",
        "import seaborn as sns\n",
        "sns.set_style(\"whitegrid\")\n",
        "%matplotlib inline\n",
        "from datetime import datetime"
      ]
    },
    {
      "cell_type": "code",
      "source": [
        "!pip install nsepy"
      ],
      "metadata": {
        "colab": {
          "base_uri": "https://localhost:8080/"
        },
        "id": "8CCenra2IZV6",
        "outputId": "a02cbdd7-7029-4db6-d7a4-8844bb0af207"
      },
      "execution_count": 2,
      "outputs": [
        {
          "output_type": "stream",
          "name": "stdout",
          "text": [
            "Looking in indexes: https://pypi.org/simple, https://us-python.pkg.dev/colab-wheels/public/simple/\n",
            "Collecting nsepy\n",
            "  Downloading nsepy-0.8.tar.gz (33 kB)\n",
            "Requirement already satisfied: beautifulsoup4 in /usr/local/lib/python3.7/dist-packages (from nsepy) (4.6.3)\n",
            "Requirement already satisfied: requests in /usr/local/lib/python3.7/dist-packages (from nsepy) (2.23.0)\n",
            "Requirement already satisfied: numpy in /usr/local/lib/python3.7/dist-packages (from nsepy) (1.21.6)\n",
            "Requirement already satisfied: pandas in /usr/local/lib/python3.7/dist-packages (from nsepy) (1.3.5)\n",
            "Requirement already satisfied: six in /usr/local/lib/python3.7/dist-packages (from nsepy) (1.15.0)\n",
            "Requirement already satisfied: click in /usr/local/lib/python3.7/dist-packages (from nsepy) (7.1.2)\n",
            "Requirement already satisfied: lxml in /usr/local/lib/python3.7/dist-packages (from nsepy) (4.9.1)\n",
            "Requirement already satisfied: python-dateutil>=2.7.3 in /usr/local/lib/python3.7/dist-packages (from pandas->nsepy) (2.8.2)\n",
            "Requirement already satisfied: pytz>=2017.3 in /usr/local/lib/python3.7/dist-packages (from pandas->nsepy) (2022.5)\n",
            "Requirement already satisfied: urllib3!=1.25.0,!=1.25.1,<1.26,>=1.21.1 in /usr/local/lib/python3.7/dist-packages (from requests->nsepy) (1.24.3)\n",
            "Requirement already satisfied: idna<3,>=2.5 in /usr/local/lib/python3.7/dist-packages (from requests->nsepy) (2.10)\n",
            "Requirement already satisfied: chardet<4,>=3.0.2 in /usr/local/lib/python3.7/dist-packages (from requests->nsepy) (3.0.4)\n",
            "Requirement already satisfied: certifi>=2017.4.17 in /usr/local/lib/python3.7/dist-packages (from requests->nsepy) (2022.9.24)\n",
            "Building wheels for collected packages: nsepy\n",
            "  Building wheel for nsepy (setup.py) ... \u001b[?25l\u001b[?25hdone\n",
            "  Created wheel for nsepy: filename=nsepy-0.8-py3-none-any.whl size=36084 sha256=d562562f785b6de1f2944e23fe66c6ebdfc1134c369d329dcd7ead5844758993\n",
            "  Stored in directory: /root/.cache/pip/wheels/32/ab/d9/78ceea14cdf6de83376082b3cb0c2999fd77f823e35c47b9ec\n",
            "Successfully built nsepy\n",
            "Installing collected packages: nsepy\n",
            "Successfully installed nsepy-0.8\n"
          ]
        }
      ]
    },
    {
      "cell_type": "code",
      "execution_count": 3,
      "metadata": {
        "id": "A8wk53brOE9K"
      },
      "outputs": [],
      "source": [
        "import pandas as pd\n",
        "import nsepy\n",
        "import datetime"
      ]
    },
    {
      "cell_type": "markdown",
      "source": [
        "# Data Extraction"
      ],
      "metadata": {
        "id": "jGfp2-mnvAm_"
      }
    },
    {
      "cell_type": "markdown",
      "metadata": {
        "id": "h090pl3nQ-OA"
      },
      "source": [
        "**Importing dataset**"
      ]
    },
    {
      "cell_type": "code",
      "execution_count": 4,
      "metadata": {
        "id": "IUhpR88QOUtc"
      },
      "outputs": [],
      "source": [
        "from datetime import date\n",
        "end_date=datetime.date.today()\n",
        "def extract(name):\n",
        "  data=nsepy.get_history(symbol=name,start=date(2005,1,1),end=end_date)\n",
        "  return data"
      ]
    },
    {
      "cell_type": "code",
      "execution_count": 5,
      "metadata": {
        "id": "m9bNb3HOQEsH",
        "colab": {
          "base_uri": "https://localhost:8080/"
        },
        "outputId": "1e279e24-b61b-4b09-d3a1-9dbdc284a5b4"
      },
      "outputs": [
        {
          "output_type": "stream",
          "name": "stderr",
          "text": [
            "WARNING:urllib3.connectionpool:Connection pool is full, discarding connection: www1.nseindia.com\n",
            "WARNING:urllib3.connectionpool:Connection pool is full, discarding connection: www1.nseindia.com\n",
            "WARNING:urllib3.connectionpool:Connection pool is full, discarding connection: www1.nseindia.com\n",
            "WARNING:urllib3.connectionpool:Connection pool is full, discarding connection: www1.nseindia.com\n",
            "WARNING:urllib3.connectionpool:Connection pool is full, discarding connection: www1.nseindia.com\n",
            "WARNING:urllib3.connectionpool:Connection pool is full, discarding connection: www1.nseindia.com\n",
            "WARNING:urllib3.connectionpool:Connection pool is full, discarding connection: www1.nseindia.com\n",
            "WARNING:urllib3.connectionpool:Connection pool is full, discarding connection: www1.nseindia.com\n",
            "WARNING:urllib3.connectionpool:Connection pool is full, discarding connection: www1.nseindia.com\n",
            "WARNING:urllib3.connectionpool:Connection pool is full, discarding connection: www1.nseindia.com\n",
            "WARNING:urllib3.connectionpool:Connection pool is full, discarding connection: www1.nseindia.com\n",
            "WARNING:urllib3.connectionpool:Connection pool is full, discarding connection: www1.nseindia.com\n",
            "WARNING:urllib3.connectionpool:Connection pool is full, discarding connection: www1.nseindia.com\n",
            "WARNING:urllib3.connectionpool:Connection pool is full, discarding connection: www1.nseindia.com\n",
            "WARNING:urllib3.connectionpool:Connection pool is full, discarding connection: www1.nseindia.com\n",
            "WARNING:urllib3.connectionpool:Connection pool is full, discarding connection: www1.nseindia.com\n",
            "WARNING:urllib3.connectionpool:Connection pool is full, discarding connection: www1.nseindia.com\n",
            "WARNING:urllib3.connectionpool:Connection pool is full, discarding connection: www1.nseindia.com\n",
            "WARNING:urllib3.connectionpool:Connection pool is full, discarding connection: www1.nseindia.com\n",
            "WARNING:urllib3.connectionpool:Connection pool is full, discarding connection: www1.nseindia.com\n",
            "WARNING:urllib3.connectionpool:Connection pool is full, discarding connection: www1.nseindia.com\n",
            "WARNING:urllib3.connectionpool:Connection pool is full, discarding connection: www1.nseindia.com\n",
            "WARNING:urllib3.connectionpool:Connection pool is full, discarding connection: www1.nseindia.com\n",
            "WARNING:urllib3.connectionpool:Connection pool is full, discarding connection: www1.nseindia.com\n",
            "WARNING:urllib3.connectionpool:Connection pool is full, discarding connection: www1.nseindia.com\n",
            "WARNING:urllib3.connectionpool:Connection pool is full, discarding connection: www1.nseindia.com\n",
            "WARNING:urllib3.connectionpool:Connection pool is full, discarding connection: www1.nseindia.com\n",
            "WARNING:urllib3.connectionpool:Connection pool is full, discarding connection: www1.nseindia.com\n",
            "WARNING:urllib3.connectionpool:Connection pool is full, discarding connection: www1.nseindia.com\n",
            "WARNING:urllib3.connectionpool:Connection pool is full, discarding connection: www1.nseindia.com\n",
            "WARNING:urllib3.connectionpool:Connection pool is full, discarding connection: www1.nseindia.com\n",
            "WARNING:urllib3.connectionpool:Connection pool is full, discarding connection: www1.nseindia.com\n",
            "WARNING:urllib3.connectionpool:Connection pool is full, discarding connection: www1.nseindia.com\n",
            "WARNING:urllib3.connectionpool:Connection pool is full, discarding connection: www1.nseindia.com\n",
            "WARNING:urllib3.connectionpool:Connection pool is full, discarding connection: www1.nseindia.com\n",
            "WARNING:urllib3.connectionpool:Connection pool is full, discarding connection: www1.nseindia.com\n",
            "WARNING:urllib3.connectionpool:Connection pool is full, discarding connection: www1.nseindia.com\n",
            "WARNING:urllib3.connectionpool:Connection pool is full, discarding connection: www1.nseindia.com\n",
            "WARNING:urllib3.connectionpool:Connection pool is full, discarding connection: www1.nseindia.com\n",
            "WARNING:urllib3.connectionpool:Connection pool is full, discarding connection: www1.nseindia.com\n",
            "WARNING:urllib3.connectionpool:Connection pool is full, discarding connection: www1.nseindia.com\n",
            "WARNING:urllib3.connectionpool:Connection pool is full, discarding connection: www1.nseindia.com\n",
            "WARNING:urllib3.connectionpool:Connection pool is full, discarding connection: www1.nseindia.com\n",
            "WARNING:urllib3.connectionpool:Connection pool is full, discarding connection: www1.nseindia.com\n",
            "WARNING:urllib3.connectionpool:Connection pool is full, discarding connection: www1.nseindia.com\n",
            "WARNING:urllib3.connectionpool:Connection pool is full, discarding connection: www1.nseindia.com\n",
            "WARNING:urllib3.connectionpool:Connection pool is full, discarding connection: www1.nseindia.com\n",
            "WARNING:urllib3.connectionpool:Connection pool is full, discarding connection: www1.nseindia.com\n",
            "WARNING:urllib3.connectionpool:Connection pool is full, discarding connection: www1.nseindia.com\n",
            "WARNING:urllib3.connectionpool:Connection pool is full, discarding connection: www1.nseindia.com\n",
            "WARNING:urllib3.connectionpool:Connection pool is full, discarding connection: www1.nseindia.com\n",
            "WARNING:urllib3.connectionpool:Connection pool is full, discarding connection: www1.nseindia.com\n",
            "WARNING:urllib3.connectionpool:Connection pool is full, discarding connection: www1.nseindia.com\n",
            "WARNING:urllib3.connectionpool:Connection pool is full, discarding connection: www1.nseindia.com\n",
            "WARNING:urllib3.connectionpool:Connection pool is full, discarding connection: www1.nseindia.com\n",
            "WARNING:urllib3.connectionpool:Connection pool is full, discarding connection: www1.nseindia.com\n",
            "WARNING:urllib3.connectionpool:Connection pool is full, discarding connection: www1.nseindia.com\n",
            "WARNING:urllib3.connectionpool:Connection pool is full, discarding connection: www1.nseindia.com\n",
            "WARNING:urllib3.connectionpool:Connection pool is full, discarding connection: www1.nseindia.com\n",
            "WARNING:urllib3.connectionpool:Connection pool is full, discarding connection: www1.nseindia.com\n",
            "WARNING:urllib3.connectionpool:Connection pool is full, discarding connection: www1.nseindia.com\n",
            "WARNING:urllib3.connectionpool:Connection pool is full, discarding connection: www1.nseindia.com\n",
            "WARNING:urllib3.connectionpool:Connection pool is full, discarding connection: www1.nseindia.com\n",
            "WARNING:urllib3.connectionpool:Connection pool is full, discarding connection: www1.nseindia.com\n",
            "WARNING:urllib3.connectionpool:Connection pool is full, discarding connection: www1.nseindia.com\n",
            "WARNING:urllib3.connectionpool:Connection pool is full, discarding connection: www1.nseindia.com\n",
            "WARNING:urllib3.connectionpool:Connection pool is full, discarding connection: www1.nseindia.com\n",
            "WARNING:urllib3.connectionpool:Connection pool is full, discarding connection: www1.nseindia.com\n",
            "WARNING:urllib3.connectionpool:Connection pool is full, discarding connection: www1.nseindia.com\n",
            "WARNING:urllib3.connectionpool:Connection pool is full, discarding connection: www1.nseindia.com\n",
            "WARNING:urllib3.connectionpool:Connection pool is full, discarding connection: www1.nseindia.com\n",
            "WARNING:urllib3.connectionpool:Connection pool is full, discarding connection: www1.nseindia.com\n",
            "WARNING:urllib3.connectionpool:Connection pool is full, discarding connection: www1.nseindia.com\n",
            "WARNING:urllib3.connectionpool:Connection pool is full, discarding connection: www1.nseindia.com\n",
            "WARNING:urllib3.connectionpool:Connection pool is full, discarding connection: www1.nseindia.com\n",
            "WARNING:urllib3.connectionpool:Connection pool is full, discarding connection: www1.nseindia.com\n",
            "WARNING:urllib3.connectionpool:Connection pool is full, discarding connection: www1.nseindia.com\n",
            "WARNING:urllib3.connectionpool:Connection pool is full, discarding connection: www1.nseindia.com\n",
            "WARNING:urllib3.connectionpool:Connection pool is full, discarding connection: www1.nseindia.com\n",
            "WARNING:urllib3.connectionpool:Connection pool is full, discarding connection: www1.nseindia.com\n",
            "WARNING:urllib3.connectionpool:Connection pool is full, discarding connection: www1.nseindia.com\n",
            "WARNING:urllib3.connectionpool:Connection pool is full, discarding connection: www1.nseindia.com\n",
            "WARNING:urllib3.connectionpool:Connection pool is full, discarding connection: www1.nseindia.com\n",
            "WARNING:urllib3.connectionpool:Connection pool is full, discarding connection: www1.nseindia.com\n",
            "WARNING:urllib3.connectionpool:Connection pool is full, discarding connection: www1.nseindia.com\n",
            "WARNING:urllib3.connectionpool:Connection pool is full, discarding connection: www1.nseindia.com\n",
            "WARNING:urllib3.connectionpool:Connection pool is full, discarding connection: www1.nseindia.com\n",
            "WARNING:urllib3.connectionpool:Connection pool is full, discarding connection: www1.nseindia.com\n",
            "WARNING:urllib3.connectionpool:Connection pool is full, discarding connection: www1.nseindia.com\n",
            "WARNING:urllib3.connectionpool:Connection pool is full, discarding connection: www1.nseindia.com\n",
            "WARNING:urllib3.connectionpool:Connection pool is full, discarding connection: www1.nseindia.com\n",
            "WARNING:urllib3.connectionpool:Connection pool is full, discarding connection: www1.nseindia.com\n",
            "WARNING:urllib3.connectionpool:Connection pool is full, discarding connection: www1.nseindia.com\n",
            "WARNING:urllib3.connectionpool:Connection pool is full, discarding connection: www1.nseindia.com\n",
            "WARNING:urllib3.connectionpool:Connection pool is full, discarding connection: www1.nseindia.com\n",
            "WARNING:urllib3.connectionpool:Connection pool is full, discarding connection: www1.nseindia.com\n",
            "WARNING:urllib3.connectionpool:Connection pool is full, discarding connection: www1.nseindia.com\n",
            "WARNING:urllib3.connectionpool:Connection pool is full, discarding connection: www1.nseindia.com\n",
            "WARNING:urllib3.connectionpool:Connection pool is full, discarding connection: www1.nseindia.com\n",
            "WARNING:urllib3.connectionpool:Connection pool is full, discarding connection: www1.nseindia.com\n",
            "WARNING:urllib3.connectionpool:Connection pool is full, discarding connection: www1.nseindia.com\n",
            "WARNING:urllib3.connectionpool:Connection pool is full, discarding connection: www1.nseindia.com\n",
            "WARNING:urllib3.connectionpool:Connection pool is full, discarding connection: www1.nseindia.com\n",
            "WARNING:urllib3.connectionpool:Connection pool is full, discarding connection: www1.nseindia.com\n",
            "WARNING:urllib3.connectionpool:Connection pool is full, discarding connection: www1.nseindia.com\n",
            "WARNING:urllib3.connectionpool:Connection pool is full, discarding connection: www1.nseindia.com\n",
            "WARNING:urllib3.connectionpool:Connection pool is full, discarding connection: www1.nseindia.com\n",
            "WARNING:urllib3.connectionpool:Connection pool is full, discarding connection: www1.nseindia.com\n",
            "WARNING:urllib3.connectionpool:Connection pool is full, discarding connection: www1.nseindia.com\n",
            "WARNING:urllib3.connectionpool:Connection pool is full, discarding connection: www1.nseindia.com\n",
            "WARNING:urllib3.connectionpool:Connection pool is full, discarding connection: www1.nseindia.com\n",
            "WARNING:urllib3.connectionpool:Connection pool is full, discarding connection: www1.nseindia.com\n",
            "WARNING:urllib3.connectionpool:Connection pool is full, discarding connection: www1.nseindia.com\n",
            "WARNING:urllib3.connectionpool:Connection pool is full, discarding connection: www1.nseindia.com\n",
            "WARNING:urllib3.connectionpool:Connection pool is full, discarding connection: www1.nseindia.com\n",
            "WARNING:urllib3.connectionpool:Connection pool is full, discarding connection: www1.nseindia.com\n",
            "WARNING:urllib3.connectionpool:Connection pool is full, discarding connection: www1.nseindia.com\n",
            "WARNING:urllib3.connectionpool:Connection pool is full, discarding connection: www1.nseindia.com\n",
            "WARNING:urllib3.connectionpool:Connection pool is full, discarding connection: www1.nseindia.com\n",
            "WARNING:urllib3.connectionpool:Connection pool is full, discarding connection: www1.nseindia.com\n",
            "WARNING:urllib3.connectionpool:Connection pool is full, discarding connection: www1.nseindia.com\n",
            "WARNING:urllib3.connectionpool:Connection pool is full, discarding connection: www1.nseindia.com\n",
            "WARNING:urllib3.connectionpool:Connection pool is full, discarding connection: www1.nseindia.com\n",
            "WARNING:urllib3.connectionpool:Connection pool is full, discarding connection: www1.nseindia.com\n",
            "WARNING:urllib3.connectionpool:Connection pool is full, discarding connection: www1.nseindia.com\n",
            "WARNING:urllib3.connectionpool:Connection pool is full, discarding connection: www1.nseindia.com\n",
            "WARNING:urllib3.connectionpool:Connection pool is full, discarding connection: www1.nseindia.com\n",
            "WARNING:urllib3.connectionpool:Connection pool is full, discarding connection: www1.nseindia.com\n",
            "WARNING:urllib3.connectionpool:Connection pool is full, discarding connection: www1.nseindia.com\n",
            "WARNING:urllib3.connectionpool:Connection pool is full, discarding connection: www1.nseindia.com\n",
            "WARNING:urllib3.connectionpool:Connection pool is full, discarding connection: www1.nseindia.com\n",
            "WARNING:urllib3.connectionpool:Connection pool is full, discarding connection: www1.nseindia.com\n",
            "WARNING:urllib3.connectionpool:Connection pool is full, discarding connection: www1.nseindia.com\n",
            "WARNING:urllib3.connectionpool:Connection pool is full, discarding connection: www1.nseindia.com\n",
            "WARNING:urllib3.connectionpool:Connection pool is full, discarding connection: www1.nseindia.com\n",
            "WARNING:urllib3.connectionpool:Connection pool is full, discarding connection: www1.nseindia.com\n",
            "WARNING:urllib3.connectionpool:Connection pool is full, discarding connection: www1.nseindia.com\n",
            "WARNING:urllib3.connectionpool:Connection pool is full, discarding connection: www1.nseindia.com\n",
            "WARNING:urllib3.connectionpool:Connection pool is full, discarding connection: www1.nseindia.com\n",
            "WARNING:urllib3.connectionpool:Connection pool is full, discarding connection: www1.nseindia.com\n",
            "WARNING:urllib3.connectionpool:Connection pool is full, discarding connection: www1.nseindia.com\n",
            "WARNING:urllib3.connectionpool:Connection pool is full, discarding connection: www1.nseindia.com\n",
            "WARNING:urllib3.connectionpool:Connection pool is full, discarding connection: www1.nseindia.com\n",
            "WARNING:urllib3.connectionpool:Connection pool is full, discarding connection: www1.nseindia.com\n",
            "WARNING:urllib3.connectionpool:Connection pool is full, discarding connection: www1.nseindia.com\n"
          ]
        }
      ],
      "source": [
        "df_sbi=extract('SBIN')\n",
        "df_axis=extract('AXIS BANK LIMITED')\n",
        "df_maruti=extract('MARUTI SUZUKI INDIA LIMITED')"
      ]
    },
    {
      "cell_type": "code",
      "source": [
        "df_al=extract('ASHOK LEYLAND LIMITED')"
      ],
      "metadata": {
        "id": "TD0VzVDCn7aE"
      },
      "execution_count": 6,
      "outputs": []
    },
    {
      "cell_type": "markdown",
      "source": [
        "# Dataset"
      ],
      "metadata": {
        "id": "IKe2yZF6u8ck"
      }
    },
    {
      "cell_type": "code",
      "execution_count": 7,
      "metadata": {
        "id": "iZXjLp2KYJFU",
        "colab": {
          "base_uri": "https://localhost:8080/",
          "height": 0
        },
        "outputId": "c5ffe084-95a5-4822-c38c-7fd593eefba9"
      },
      "outputs": [
        {
          "output_type": "execute_result",
          "data": {
            "text/plain": [
              "Empty DataFrame\n",
              "Columns: [Symbol, Series, Prev Close, Open, High, Low, Last, Close, VWAP, Volume, Turnover, Trades, Deliverable Volume, %Deliverble]\n",
              "Index: []"
            ],
            "text/html": [
              "\n",
              "  <div id=\"df-92e39886-83d8-4cee-a4f6-d7f02a15d942\">\n",
              "    <div class=\"colab-df-container\">\n",
              "      <div>\n",
              "<style scoped>\n",
              "    .dataframe tbody tr th:only-of-type {\n",
              "        vertical-align: middle;\n",
              "    }\n",
              "\n",
              "    .dataframe tbody tr th {\n",
              "        vertical-align: top;\n",
              "    }\n",
              "\n",
              "    .dataframe thead th {\n",
              "        text-align: right;\n",
              "    }\n",
              "</style>\n",
              "<table border=\"1\" class=\"dataframe\">\n",
              "  <thead>\n",
              "    <tr style=\"text-align: right;\">\n",
              "      <th></th>\n",
              "      <th>Symbol</th>\n",
              "      <th>Series</th>\n",
              "      <th>Prev Close</th>\n",
              "      <th>Open</th>\n",
              "      <th>High</th>\n",
              "      <th>Low</th>\n",
              "      <th>Last</th>\n",
              "      <th>Close</th>\n",
              "      <th>VWAP</th>\n",
              "      <th>Volume</th>\n",
              "      <th>Turnover</th>\n",
              "      <th>Trades</th>\n",
              "      <th>Deliverable Volume</th>\n",
              "      <th>%Deliverble</th>\n",
              "    </tr>\n",
              "    <tr>\n",
              "      <th>Date</th>\n",
              "      <th></th>\n",
              "      <th></th>\n",
              "      <th></th>\n",
              "      <th></th>\n",
              "      <th></th>\n",
              "      <th></th>\n",
              "      <th></th>\n",
              "      <th></th>\n",
              "      <th></th>\n",
              "      <th></th>\n",
              "      <th></th>\n",
              "      <th></th>\n",
              "      <th></th>\n",
              "      <th></th>\n",
              "    </tr>\n",
              "  </thead>\n",
              "  <tbody>\n",
              "  </tbody>\n",
              "</table>\n",
              "</div>\n",
              "      <button class=\"colab-df-convert\" onclick=\"convertToInteractive('df-92e39886-83d8-4cee-a4f6-d7f02a15d942')\"\n",
              "              title=\"Convert this dataframe to an interactive table.\"\n",
              "              style=\"display:none;\">\n",
              "        \n",
              "  <svg xmlns=\"http://www.w3.org/2000/svg\" height=\"24px\"viewBox=\"0 0 24 24\"\n",
              "       width=\"24px\">\n",
              "    <path d=\"M0 0h24v24H0V0z\" fill=\"none\"/>\n",
              "    <path d=\"M18.56 5.44l.94 2.06.94-2.06 2.06-.94-2.06-.94-.94-2.06-.94 2.06-2.06.94zm-11 1L8.5 8.5l.94-2.06 2.06-.94-2.06-.94L8.5 2.5l-.94 2.06-2.06.94zm10 10l.94 2.06.94-2.06 2.06-.94-2.06-.94-.94-2.06-.94 2.06-2.06.94z\"/><path d=\"M17.41 7.96l-1.37-1.37c-.4-.4-.92-.59-1.43-.59-.52 0-1.04.2-1.43.59L10.3 9.45l-7.72 7.72c-.78.78-.78 2.05 0 2.83L4 21.41c.39.39.9.59 1.41.59.51 0 1.02-.2 1.41-.59l7.78-7.78 2.81-2.81c.8-.78.8-2.07 0-2.86zM5.41 20L4 18.59l7.72-7.72 1.47 1.35L5.41 20z\"/>\n",
              "  </svg>\n",
              "      </button>\n",
              "      \n",
              "  <style>\n",
              "    .colab-df-container {\n",
              "      display:flex;\n",
              "      flex-wrap:wrap;\n",
              "      gap: 12px;\n",
              "    }\n",
              "\n",
              "    .colab-df-convert {\n",
              "      background-color: #E8F0FE;\n",
              "      border: none;\n",
              "      border-radius: 50%;\n",
              "      cursor: pointer;\n",
              "      display: none;\n",
              "      fill: #1967D2;\n",
              "      height: 32px;\n",
              "      padding: 0 0 0 0;\n",
              "      width: 32px;\n",
              "    }\n",
              "\n",
              "    .colab-df-convert:hover {\n",
              "      background-color: #E2EBFA;\n",
              "      box-shadow: 0px 1px 2px rgba(60, 64, 67, 0.3), 0px 1px 3px 1px rgba(60, 64, 67, 0.15);\n",
              "      fill: #174EA6;\n",
              "    }\n",
              "\n",
              "    [theme=dark] .colab-df-convert {\n",
              "      background-color: #3B4455;\n",
              "      fill: #D2E3FC;\n",
              "    }\n",
              "\n",
              "    [theme=dark] .colab-df-convert:hover {\n",
              "      background-color: #434B5C;\n",
              "      box-shadow: 0px 1px 3px 1px rgba(0, 0, 0, 0.15);\n",
              "      filter: drop-shadow(0px 1px 2px rgba(0, 0, 0, 0.3));\n",
              "      fill: #FFFFFF;\n",
              "    }\n",
              "  </style>\n",
              "\n",
              "      <script>\n",
              "        const buttonEl =\n",
              "          document.querySelector('#df-92e39886-83d8-4cee-a4f6-d7f02a15d942 button.colab-df-convert');\n",
              "        buttonEl.style.display =\n",
              "          google.colab.kernel.accessAllowed ? 'block' : 'none';\n",
              "\n",
              "        async function convertToInteractive(key) {\n",
              "          const element = document.querySelector('#df-92e39886-83d8-4cee-a4f6-d7f02a15d942');\n",
              "          const dataTable =\n",
              "            await google.colab.kernel.invokeFunction('convertToInteractive',\n",
              "                                                     [key], {});\n",
              "          if (!dataTable) return;\n",
              "\n",
              "          const docLinkHtml = 'Like what you see? Visit the ' +\n",
              "            '<a target=\"_blank\" href=https://colab.research.google.com/notebooks/data_table.ipynb>data table notebook</a>'\n",
              "            + ' to learn more about interactive tables.';\n",
              "          element.innerHTML = '';\n",
              "          dataTable['output_type'] = 'display_data';\n",
              "          await google.colab.output.renderOutput(dataTable, element);\n",
              "          const docLink = document.createElement('div');\n",
              "          docLink.innerHTML = docLinkHtml;\n",
              "          element.appendChild(docLink);\n",
              "        }\n",
              "      </script>\n",
              "    </div>\n",
              "  </div>\n",
              "  "
            ]
          },
          "metadata": {},
          "execution_count": 7
        }
      ],
      "source": [
        "df_maruti.head()"
      ]
    },
    {
      "cell_type": "code",
      "execution_count": 8,
      "metadata": {
        "id": "JYpT1KzMYLU_",
        "colab": {
          "base_uri": "https://localhost:8080/",
          "height": 0
        },
        "outputId": "63eec511-5eae-42d1-81eb-3592b2706d96"
      },
      "outputs": [
        {
          "output_type": "execute_result",
          "data": {
            "text/plain": [
              "Empty DataFrame\n",
              "Columns: [Symbol, Series, Prev Close, Open, High, Low, Last, Close, VWAP, Volume, Turnover, Trades, Deliverable Volume, %Deliverble]\n",
              "Index: []"
            ],
            "text/html": [
              "\n",
              "  <div id=\"df-a399ed55-25df-4f3e-89ca-266487235cd0\">\n",
              "    <div class=\"colab-df-container\">\n",
              "      <div>\n",
              "<style scoped>\n",
              "    .dataframe tbody tr th:only-of-type {\n",
              "        vertical-align: middle;\n",
              "    }\n",
              "\n",
              "    .dataframe tbody tr th {\n",
              "        vertical-align: top;\n",
              "    }\n",
              "\n",
              "    .dataframe thead th {\n",
              "        text-align: right;\n",
              "    }\n",
              "</style>\n",
              "<table border=\"1\" class=\"dataframe\">\n",
              "  <thead>\n",
              "    <tr style=\"text-align: right;\">\n",
              "      <th></th>\n",
              "      <th>Symbol</th>\n",
              "      <th>Series</th>\n",
              "      <th>Prev Close</th>\n",
              "      <th>Open</th>\n",
              "      <th>High</th>\n",
              "      <th>Low</th>\n",
              "      <th>Last</th>\n",
              "      <th>Close</th>\n",
              "      <th>VWAP</th>\n",
              "      <th>Volume</th>\n",
              "      <th>Turnover</th>\n",
              "      <th>Trades</th>\n",
              "      <th>Deliverable Volume</th>\n",
              "      <th>%Deliverble</th>\n",
              "    </tr>\n",
              "    <tr>\n",
              "      <th>Date</th>\n",
              "      <th></th>\n",
              "      <th></th>\n",
              "      <th></th>\n",
              "      <th></th>\n",
              "      <th></th>\n",
              "      <th></th>\n",
              "      <th></th>\n",
              "      <th></th>\n",
              "      <th></th>\n",
              "      <th></th>\n",
              "      <th></th>\n",
              "      <th></th>\n",
              "      <th></th>\n",
              "      <th></th>\n",
              "    </tr>\n",
              "  </thead>\n",
              "  <tbody>\n",
              "  </tbody>\n",
              "</table>\n",
              "</div>\n",
              "      <button class=\"colab-df-convert\" onclick=\"convertToInteractive('df-a399ed55-25df-4f3e-89ca-266487235cd0')\"\n",
              "              title=\"Convert this dataframe to an interactive table.\"\n",
              "              style=\"display:none;\">\n",
              "        \n",
              "  <svg xmlns=\"http://www.w3.org/2000/svg\" height=\"24px\"viewBox=\"0 0 24 24\"\n",
              "       width=\"24px\">\n",
              "    <path d=\"M0 0h24v24H0V0z\" fill=\"none\"/>\n",
              "    <path d=\"M18.56 5.44l.94 2.06.94-2.06 2.06-.94-2.06-.94-.94-2.06-.94 2.06-2.06.94zm-11 1L8.5 8.5l.94-2.06 2.06-.94-2.06-.94L8.5 2.5l-.94 2.06-2.06.94zm10 10l.94 2.06.94-2.06 2.06-.94-2.06-.94-.94-2.06-.94 2.06-2.06.94z\"/><path d=\"M17.41 7.96l-1.37-1.37c-.4-.4-.92-.59-1.43-.59-.52 0-1.04.2-1.43.59L10.3 9.45l-7.72 7.72c-.78.78-.78 2.05 0 2.83L4 21.41c.39.39.9.59 1.41.59.51 0 1.02-.2 1.41-.59l7.78-7.78 2.81-2.81c.8-.78.8-2.07 0-2.86zM5.41 20L4 18.59l7.72-7.72 1.47 1.35L5.41 20z\"/>\n",
              "  </svg>\n",
              "      </button>\n",
              "      \n",
              "  <style>\n",
              "    .colab-df-container {\n",
              "      display:flex;\n",
              "      flex-wrap:wrap;\n",
              "      gap: 12px;\n",
              "    }\n",
              "\n",
              "    .colab-df-convert {\n",
              "      background-color: #E8F0FE;\n",
              "      border: none;\n",
              "      border-radius: 50%;\n",
              "      cursor: pointer;\n",
              "      display: none;\n",
              "      fill: #1967D2;\n",
              "      height: 32px;\n",
              "      padding: 0 0 0 0;\n",
              "      width: 32px;\n",
              "    }\n",
              "\n",
              "    .colab-df-convert:hover {\n",
              "      background-color: #E2EBFA;\n",
              "      box-shadow: 0px 1px 2px rgba(60, 64, 67, 0.3), 0px 1px 3px 1px rgba(60, 64, 67, 0.15);\n",
              "      fill: #174EA6;\n",
              "    }\n",
              "\n",
              "    [theme=dark] .colab-df-convert {\n",
              "      background-color: #3B4455;\n",
              "      fill: #D2E3FC;\n",
              "    }\n",
              "\n",
              "    [theme=dark] .colab-df-convert:hover {\n",
              "      background-color: #434B5C;\n",
              "      box-shadow: 0px 1px 3px 1px rgba(0, 0, 0, 0.15);\n",
              "      filter: drop-shadow(0px 1px 2px rgba(0, 0, 0, 0.3));\n",
              "      fill: #FFFFFF;\n",
              "    }\n",
              "  </style>\n",
              "\n",
              "      <script>\n",
              "        const buttonEl =\n",
              "          document.querySelector('#df-a399ed55-25df-4f3e-89ca-266487235cd0 button.colab-df-convert');\n",
              "        buttonEl.style.display =\n",
              "          google.colab.kernel.accessAllowed ? 'block' : 'none';\n",
              "\n",
              "        async function convertToInteractive(key) {\n",
              "          const element = document.querySelector('#df-a399ed55-25df-4f3e-89ca-266487235cd0');\n",
              "          const dataTable =\n",
              "            await google.colab.kernel.invokeFunction('convertToInteractive',\n",
              "                                                     [key], {});\n",
              "          if (!dataTable) return;\n",
              "\n",
              "          const docLinkHtml = 'Like what you see? Visit the ' +\n",
              "            '<a target=\"_blank\" href=https://colab.research.google.com/notebooks/data_table.ipynb>data table notebook</a>'\n",
              "            + ' to learn more about interactive tables.';\n",
              "          element.innerHTML = '';\n",
              "          dataTable['output_type'] = 'display_data';\n",
              "          await google.colab.output.renderOutput(dataTable, element);\n",
              "          const docLink = document.createElement('div');\n",
              "          docLink.innerHTML = docLinkHtml;\n",
              "          element.appendChild(docLink);\n",
              "        }\n",
              "      </script>\n",
              "    </div>\n",
              "  </div>\n",
              "  "
            ]
          },
          "metadata": {},
          "execution_count": 8
        }
      ],
      "source": [
        "df_al.head()"
      ]
    },
    {
      "cell_type": "code",
      "execution_count": 9,
      "metadata": {
        "id": "4K12iPk4YMj8",
        "colab": {
          "base_uri": "https://localhost:8080/",
          "height": 0
        },
        "outputId": "b2cb40b8-b068-4532-efae-ba403e1e61af"
      },
      "outputs": [
        {
          "output_type": "execute_result",
          "data": {
            "text/plain": [
              "           Symbol Series  Prev Close    Open    High     Low   Last   Close  \\\n",
              "Date                                                                          \n",
              "2005-01-03   SBIN     EQ      652.00  654.50  662.90  650.10  657.0  655.75   \n",
              "2005-01-04   SBIN     EQ      655.75  658.85  658.90  646.15  651.0  649.90   \n",
              "2005-01-05   SBIN     EQ      649.90  649.95  655.80  591.00  615.8  617.45   \n",
              "2005-01-06   SBIN     EQ      617.45  615.25  628.90  596.15  604.0  604.30   \n",
              "2005-01-07   SBIN     EQ      604.30  609.40  619.95  605.25  615.9  615.65   \n",
              "\n",
              "              VWAP   Volume      Turnover  Trades  Deliverable Volume  \\\n",
              "Date                                                                    \n",
              "2005-01-03  656.76  2131452  1.399851e+14     NaN            399911.0   \n",
              "2005-01-04  651.35  2472630  1.610536e+14     NaN            274312.0   \n",
              "2005-01-05  625.10  4919738  3.075329e+14     NaN            592714.0   \n",
              "2005-01-06  612.49  4502406  2.757690e+14     NaN            293856.0   \n",
              "2005-01-07  613.27  2923563  1.792921e+14     NaN            176542.0   \n",
              "\n",
              "            %Deliverble  \n",
              "Date                     \n",
              "2005-01-03       0.1876  \n",
              "2005-01-04       0.1109  \n",
              "2005-01-05       0.1205  \n",
              "2005-01-06       0.0653  \n",
              "2005-01-07       0.0604  "
            ],
            "text/html": [
              "\n",
              "  <div id=\"df-667790db-62c9-435f-a1de-8ada9d70efed\">\n",
              "    <div class=\"colab-df-container\">\n",
              "      <div>\n",
              "<style scoped>\n",
              "    .dataframe tbody tr th:only-of-type {\n",
              "        vertical-align: middle;\n",
              "    }\n",
              "\n",
              "    .dataframe tbody tr th {\n",
              "        vertical-align: top;\n",
              "    }\n",
              "\n",
              "    .dataframe thead th {\n",
              "        text-align: right;\n",
              "    }\n",
              "</style>\n",
              "<table border=\"1\" class=\"dataframe\">\n",
              "  <thead>\n",
              "    <tr style=\"text-align: right;\">\n",
              "      <th></th>\n",
              "      <th>Symbol</th>\n",
              "      <th>Series</th>\n",
              "      <th>Prev Close</th>\n",
              "      <th>Open</th>\n",
              "      <th>High</th>\n",
              "      <th>Low</th>\n",
              "      <th>Last</th>\n",
              "      <th>Close</th>\n",
              "      <th>VWAP</th>\n",
              "      <th>Volume</th>\n",
              "      <th>Turnover</th>\n",
              "      <th>Trades</th>\n",
              "      <th>Deliverable Volume</th>\n",
              "      <th>%Deliverble</th>\n",
              "    </tr>\n",
              "    <tr>\n",
              "      <th>Date</th>\n",
              "      <th></th>\n",
              "      <th></th>\n",
              "      <th></th>\n",
              "      <th></th>\n",
              "      <th></th>\n",
              "      <th></th>\n",
              "      <th></th>\n",
              "      <th></th>\n",
              "      <th></th>\n",
              "      <th></th>\n",
              "      <th></th>\n",
              "      <th></th>\n",
              "      <th></th>\n",
              "      <th></th>\n",
              "    </tr>\n",
              "  </thead>\n",
              "  <tbody>\n",
              "    <tr>\n",
              "      <th>2005-01-03</th>\n",
              "      <td>SBIN</td>\n",
              "      <td>EQ</td>\n",
              "      <td>652.00</td>\n",
              "      <td>654.50</td>\n",
              "      <td>662.90</td>\n",
              "      <td>650.10</td>\n",
              "      <td>657.0</td>\n",
              "      <td>655.75</td>\n",
              "      <td>656.76</td>\n",
              "      <td>2131452</td>\n",
              "      <td>1.399851e+14</td>\n",
              "      <td>NaN</td>\n",
              "      <td>399911.0</td>\n",
              "      <td>0.1876</td>\n",
              "    </tr>\n",
              "    <tr>\n",
              "      <th>2005-01-04</th>\n",
              "      <td>SBIN</td>\n",
              "      <td>EQ</td>\n",
              "      <td>655.75</td>\n",
              "      <td>658.85</td>\n",
              "      <td>658.90</td>\n",
              "      <td>646.15</td>\n",
              "      <td>651.0</td>\n",
              "      <td>649.90</td>\n",
              "      <td>651.35</td>\n",
              "      <td>2472630</td>\n",
              "      <td>1.610536e+14</td>\n",
              "      <td>NaN</td>\n",
              "      <td>274312.0</td>\n",
              "      <td>0.1109</td>\n",
              "    </tr>\n",
              "    <tr>\n",
              "      <th>2005-01-05</th>\n",
              "      <td>SBIN</td>\n",
              "      <td>EQ</td>\n",
              "      <td>649.90</td>\n",
              "      <td>649.95</td>\n",
              "      <td>655.80</td>\n",
              "      <td>591.00</td>\n",
              "      <td>615.8</td>\n",
              "      <td>617.45</td>\n",
              "      <td>625.10</td>\n",
              "      <td>4919738</td>\n",
              "      <td>3.075329e+14</td>\n",
              "      <td>NaN</td>\n",
              "      <td>592714.0</td>\n",
              "      <td>0.1205</td>\n",
              "    </tr>\n",
              "    <tr>\n",
              "      <th>2005-01-06</th>\n",
              "      <td>SBIN</td>\n",
              "      <td>EQ</td>\n",
              "      <td>617.45</td>\n",
              "      <td>615.25</td>\n",
              "      <td>628.90</td>\n",
              "      <td>596.15</td>\n",
              "      <td>604.0</td>\n",
              "      <td>604.30</td>\n",
              "      <td>612.49</td>\n",
              "      <td>4502406</td>\n",
              "      <td>2.757690e+14</td>\n",
              "      <td>NaN</td>\n",
              "      <td>293856.0</td>\n",
              "      <td>0.0653</td>\n",
              "    </tr>\n",
              "    <tr>\n",
              "      <th>2005-01-07</th>\n",
              "      <td>SBIN</td>\n",
              "      <td>EQ</td>\n",
              "      <td>604.30</td>\n",
              "      <td>609.40</td>\n",
              "      <td>619.95</td>\n",
              "      <td>605.25</td>\n",
              "      <td>615.9</td>\n",
              "      <td>615.65</td>\n",
              "      <td>613.27</td>\n",
              "      <td>2923563</td>\n",
              "      <td>1.792921e+14</td>\n",
              "      <td>NaN</td>\n",
              "      <td>176542.0</td>\n",
              "      <td>0.0604</td>\n",
              "    </tr>\n",
              "  </tbody>\n",
              "</table>\n",
              "</div>\n",
              "      <button class=\"colab-df-convert\" onclick=\"convertToInteractive('df-667790db-62c9-435f-a1de-8ada9d70efed')\"\n",
              "              title=\"Convert this dataframe to an interactive table.\"\n",
              "              style=\"display:none;\">\n",
              "        \n",
              "  <svg xmlns=\"http://www.w3.org/2000/svg\" height=\"24px\"viewBox=\"0 0 24 24\"\n",
              "       width=\"24px\">\n",
              "    <path d=\"M0 0h24v24H0V0z\" fill=\"none\"/>\n",
              "    <path d=\"M18.56 5.44l.94 2.06.94-2.06 2.06-.94-2.06-.94-.94-2.06-.94 2.06-2.06.94zm-11 1L8.5 8.5l.94-2.06 2.06-.94-2.06-.94L8.5 2.5l-.94 2.06-2.06.94zm10 10l.94 2.06.94-2.06 2.06-.94-2.06-.94-.94-2.06-.94 2.06-2.06.94z\"/><path d=\"M17.41 7.96l-1.37-1.37c-.4-.4-.92-.59-1.43-.59-.52 0-1.04.2-1.43.59L10.3 9.45l-7.72 7.72c-.78.78-.78 2.05 0 2.83L4 21.41c.39.39.9.59 1.41.59.51 0 1.02-.2 1.41-.59l7.78-7.78 2.81-2.81c.8-.78.8-2.07 0-2.86zM5.41 20L4 18.59l7.72-7.72 1.47 1.35L5.41 20z\"/>\n",
              "  </svg>\n",
              "      </button>\n",
              "      \n",
              "  <style>\n",
              "    .colab-df-container {\n",
              "      display:flex;\n",
              "      flex-wrap:wrap;\n",
              "      gap: 12px;\n",
              "    }\n",
              "\n",
              "    .colab-df-convert {\n",
              "      background-color: #E8F0FE;\n",
              "      border: none;\n",
              "      border-radius: 50%;\n",
              "      cursor: pointer;\n",
              "      display: none;\n",
              "      fill: #1967D2;\n",
              "      height: 32px;\n",
              "      padding: 0 0 0 0;\n",
              "      width: 32px;\n",
              "    }\n",
              "\n",
              "    .colab-df-convert:hover {\n",
              "      background-color: #E2EBFA;\n",
              "      box-shadow: 0px 1px 2px rgba(60, 64, 67, 0.3), 0px 1px 3px 1px rgba(60, 64, 67, 0.15);\n",
              "      fill: #174EA6;\n",
              "    }\n",
              "\n",
              "    [theme=dark] .colab-df-convert {\n",
              "      background-color: #3B4455;\n",
              "      fill: #D2E3FC;\n",
              "    }\n",
              "\n",
              "    [theme=dark] .colab-df-convert:hover {\n",
              "      background-color: #434B5C;\n",
              "      box-shadow: 0px 1px 3px 1px rgba(0, 0, 0, 0.15);\n",
              "      filter: drop-shadow(0px 1px 2px rgba(0, 0, 0, 0.3));\n",
              "      fill: #FFFFFF;\n",
              "    }\n",
              "  </style>\n",
              "\n",
              "      <script>\n",
              "        const buttonEl =\n",
              "          document.querySelector('#df-667790db-62c9-435f-a1de-8ada9d70efed button.colab-df-convert');\n",
              "        buttonEl.style.display =\n",
              "          google.colab.kernel.accessAllowed ? 'block' : 'none';\n",
              "\n",
              "        async function convertToInteractive(key) {\n",
              "          const element = document.querySelector('#df-667790db-62c9-435f-a1de-8ada9d70efed');\n",
              "          const dataTable =\n",
              "            await google.colab.kernel.invokeFunction('convertToInteractive',\n",
              "                                                     [key], {});\n",
              "          if (!dataTable) return;\n",
              "\n",
              "          const docLinkHtml = 'Like what you see? Visit the ' +\n",
              "            '<a target=\"_blank\" href=https://colab.research.google.com/notebooks/data_table.ipynb>data table notebook</a>'\n",
              "            + ' to learn more about interactive tables.';\n",
              "          element.innerHTML = '';\n",
              "          dataTable['output_type'] = 'display_data';\n",
              "          await google.colab.output.renderOutput(dataTable, element);\n",
              "          const docLink = document.createElement('div');\n",
              "          docLink.innerHTML = docLinkHtml;\n",
              "          element.appendChild(docLink);\n",
              "        }\n",
              "      </script>\n",
              "    </div>\n",
              "  </div>\n",
              "  "
            ]
          },
          "metadata": {},
          "execution_count": 9
        }
      ],
      "source": [
        "df_sbi.head()"
      ]
    },
    {
      "cell_type": "code",
      "execution_count": 10,
      "metadata": {
        "id": "2C3wt7QcYOFS",
        "colab": {
          "base_uri": "https://localhost:8080/",
          "height": 0
        },
        "outputId": "577e58cc-f77f-4d1e-83f0-7b863a06e673"
      },
      "outputs": [
        {
          "output_type": "execute_result",
          "data": {
            "text/plain": [
              "             Symbol Series  Prev Close    Open    High     Low    Last  \\\n",
              "Date                                                                     \n",
              "2005-01-03  UTIBANK     EQ      185.20  185.00  191.00  185.00  190.95   \n",
              "2005-01-04  UTIBANK     EQ      190.20  191.10  192.00  187.00  191.50   \n",
              "2005-01-05  UTIBANK     EQ      189.70  189.95  189.95  177.55  184.90   \n",
              "2005-01-06  UTIBANK     EQ      184.25  184.10  190.00  177.00  182.00   \n",
              "2005-01-07  UTIBANK     EQ      185.15  180.65  191.90  180.65  190.75   \n",
              "\n",
              "             Close    VWAP  Volume      Turnover Trades Deliverable Volume  \\\n",
              "Date                                                                         \n",
              "2005-01-03  190.20  188.89  284202  5.368259e+12    NaN             191822   \n",
              "2005-01-04  189.70  189.29  223165  4.224233e+12    NaN             147676   \n",
              "2005-01-05  184.25  183.78  232617  4.274973e+12    NaN             150070   \n",
              "2005-01-06  185.15  182.76  238522  4.359124e+12    NaN             131421   \n",
              "2005-01-07  190.10  186.11  306052  5.695810e+12    NaN             235959   \n",
              "\n",
              "            %Deliverble  \n",
              "Date                     \n",
              "2005-01-03       0.6749  \n",
              "2005-01-04       0.6617  \n",
              "2005-01-05       0.6451  \n",
              "2005-01-06       0.5510  \n",
              "2005-01-07       0.7710  "
            ],
            "text/html": [
              "\n",
              "  <div id=\"df-1a5345fb-7916-42c7-a0f9-570798d7093d\">\n",
              "    <div class=\"colab-df-container\">\n",
              "      <div>\n",
              "<style scoped>\n",
              "    .dataframe tbody tr th:only-of-type {\n",
              "        vertical-align: middle;\n",
              "    }\n",
              "\n",
              "    .dataframe tbody tr th {\n",
              "        vertical-align: top;\n",
              "    }\n",
              "\n",
              "    .dataframe thead th {\n",
              "        text-align: right;\n",
              "    }\n",
              "</style>\n",
              "<table border=\"1\" class=\"dataframe\">\n",
              "  <thead>\n",
              "    <tr style=\"text-align: right;\">\n",
              "      <th></th>\n",
              "      <th>Symbol</th>\n",
              "      <th>Series</th>\n",
              "      <th>Prev Close</th>\n",
              "      <th>Open</th>\n",
              "      <th>High</th>\n",
              "      <th>Low</th>\n",
              "      <th>Last</th>\n",
              "      <th>Close</th>\n",
              "      <th>VWAP</th>\n",
              "      <th>Volume</th>\n",
              "      <th>Turnover</th>\n",
              "      <th>Trades</th>\n",
              "      <th>Deliverable Volume</th>\n",
              "      <th>%Deliverble</th>\n",
              "    </tr>\n",
              "    <tr>\n",
              "      <th>Date</th>\n",
              "      <th></th>\n",
              "      <th></th>\n",
              "      <th></th>\n",
              "      <th></th>\n",
              "      <th></th>\n",
              "      <th></th>\n",
              "      <th></th>\n",
              "      <th></th>\n",
              "      <th></th>\n",
              "      <th></th>\n",
              "      <th></th>\n",
              "      <th></th>\n",
              "      <th></th>\n",
              "      <th></th>\n",
              "    </tr>\n",
              "  </thead>\n",
              "  <tbody>\n",
              "    <tr>\n",
              "      <th>2005-01-03</th>\n",
              "      <td>UTIBANK</td>\n",
              "      <td>EQ</td>\n",
              "      <td>185.20</td>\n",
              "      <td>185.00</td>\n",
              "      <td>191.00</td>\n",
              "      <td>185.00</td>\n",
              "      <td>190.95</td>\n",
              "      <td>190.20</td>\n",
              "      <td>188.89</td>\n",
              "      <td>284202</td>\n",
              "      <td>5.368259e+12</td>\n",
              "      <td>NaN</td>\n",
              "      <td>191822</td>\n",
              "      <td>0.6749</td>\n",
              "    </tr>\n",
              "    <tr>\n",
              "      <th>2005-01-04</th>\n",
              "      <td>UTIBANK</td>\n",
              "      <td>EQ</td>\n",
              "      <td>190.20</td>\n",
              "      <td>191.10</td>\n",
              "      <td>192.00</td>\n",
              "      <td>187.00</td>\n",
              "      <td>191.50</td>\n",
              "      <td>189.70</td>\n",
              "      <td>189.29</td>\n",
              "      <td>223165</td>\n",
              "      <td>4.224233e+12</td>\n",
              "      <td>NaN</td>\n",
              "      <td>147676</td>\n",
              "      <td>0.6617</td>\n",
              "    </tr>\n",
              "    <tr>\n",
              "      <th>2005-01-05</th>\n",
              "      <td>UTIBANK</td>\n",
              "      <td>EQ</td>\n",
              "      <td>189.70</td>\n",
              "      <td>189.95</td>\n",
              "      <td>189.95</td>\n",
              "      <td>177.55</td>\n",
              "      <td>184.90</td>\n",
              "      <td>184.25</td>\n",
              "      <td>183.78</td>\n",
              "      <td>232617</td>\n",
              "      <td>4.274973e+12</td>\n",
              "      <td>NaN</td>\n",
              "      <td>150070</td>\n",
              "      <td>0.6451</td>\n",
              "    </tr>\n",
              "    <tr>\n",
              "      <th>2005-01-06</th>\n",
              "      <td>UTIBANK</td>\n",
              "      <td>EQ</td>\n",
              "      <td>184.25</td>\n",
              "      <td>184.10</td>\n",
              "      <td>190.00</td>\n",
              "      <td>177.00</td>\n",
              "      <td>182.00</td>\n",
              "      <td>185.15</td>\n",
              "      <td>182.76</td>\n",
              "      <td>238522</td>\n",
              "      <td>4.359124e+12</td>\n",
              "      <td>NaN</td>\n",
              "      <td>131421</td>\n",
              "      <td>0.5510</td>\n",
              "    </tr>\n",
              "    <tr>\n",
              "      <th>2005-01-07</th>\n",
              "      <td>UTIBANK</td>\n",
              "      <td>EQ</td>\n",
              "      <td>185.15</td>\n",
              "      <td>180.65</td>\n",
              "      <td>191.90</td>\n",
              "      <td>180.65</td>\n",
              "      <td>190.75</td>\n",
              "      <td>190.10</td>\n",
              "      <td>186.11</td>\n",
              "      <td>306052</td>\n",
              "      <td>5.695810e+12</td>\n",
              "      <td>NaN</td>\n",
              "      <td>235959</td>\n",
              "      <td>0.7710</td>\n",
              "    </tr>\n",
              "  </tbody>\n",
              "</table>\n",
              "</div>\n",
              "      <button class=\"colab-df-convert\" onclick=\"convertToInteractive('df-1a5345fb-7916-42c7-a0f9-570798d7093d')\"\n",
              "              title=\"Convert this dataframe to an interactive table.\"\n",
              "              style=\"display:none;\">\n",
              "        \n",
              "  <svg xmlns=\"http://www.w3.org/2000/svg\" height=\"24px\"viewBox=\"0 0 24 24\"\n",
              "       width=\"24px\">\n",
              "    <path d=\"M0 0h24v24H0V0z\" fill=\"none\"/>\n",
              "    <path d=\"M18.56 5.44l.94 2.06.94-2.06 2.06-.94-2.06-.94-.94-2.06-.94 2.06-2.06.94zm-11 1L8.5 8.5l.94-2.06 2.06-.94-2.06-.94L8.5 2.5l-.94 2.06-2.06.94zm10 10l.94 2.06.94-2.06 2.06-.94-2.06-.94-.94-2.06-.94 2.06-2.06.94z\"/><path d=\"M17.41 7.96l-1.37-1.37c-.4-.4-.92-.59-1.43-.59-.52 0-1.04.2-1.43.59L10.3 9.45l-7.72 7.72c-.78.78-.78 2.05 0 2.83L4 21.41c.39.39.9.59 1.41.59.51 0 1.02-.2 1.41-.59l7.78-7.78 2.81-2.81c.8-.78.8-2.07 0-2.86zM5.41 20L4 18.59l7.72-7.72 1.47 1.35L5.41 20z\"/>\n",
              "  </svg>\n",
              "      </button>\n",
              "      \n",
              "  <style>\n",
              "    .colab-df-container {\n",
              "      display:flex;\n",
              "      flex-wrap:wrap;\n",
              "      gap: 12px;\n",
              "    }\n",
              "\n",
              "    .colab-df-convert {\n",
              "      background-color: #E8F0FE;\n",
              "      border: none;\n",
              "      border-radius: 50%;\n",
              "      cursor: pointer;\n",
              "      display: none;\n",
              "      fill: #1967D2;\n",
              "      height: 32px;\n",
              "      padding: 0 0 0 0;\n",
              "      width: 32px;\n",
              "    }\n",
              "\n",
              "    .colab-df-convert:hover {\n",
              "      background-color: #E2EBFA;\n",
              "      box-shadow: 0px 1px 2px rgba(60, 64, 67, 0.3), 0px 1px 3px 1px rgba(60, 64, 67, 0.15);\n",
              "      fill: #174EA6;\n",
              "    }\n",
              "\n",
              "    [theme=dark] .colab-df-convert {\n",
              "      background-color: #3B4455;\n",
              "      fill: #D2E3FC;\n",
              "    }\n",
              "\n",
              "    [theme=dark] .colab-df-convert:hover {\n",
              "      background-color: #434B5C;\n",
              "      box-shadow: 0px 1px 3px 1px rgba(0, 0, 0, 0.15);\n",
              "      filter: drop-shadow(0px 1px 2px rgba(0, 0, 0, 0.3));\n",
              "      fill: #FFFFFF;\n",
              "    }\n",
              "  </style>\n",
              "\n",
              "      <script>\n",
              "        const buttonEl =\n",
              "          document.querySelector('#df-1a5345fb-7916-42c7-a0f9-570798d7093d button.colab-df-convert');\n",
              "        buttonEl.style.display =\n",
              "          google.colab.kernel.accessAllowed ? 'block' : 'none';\n",
              "\n",
              "        async function convertToInteractive(key) {\n",
              "          const element = document.querySelector('#df-1a5345fb-7916-42c7-a0f9-570798d7093d');\n",
              "          const dataTable =\n",
              "            await google.colab.kernel.invokeFunction('convertToInteractive',\n",
              "                                                     [key], {});\n",
              "          if (!dataTable) return;\n",
              "\n",
              "          const docLinkHtml = 'Like what you see? Visit the ' +\n",
              "            '<a target=\"_blank\" href=https://colab.research.google.com/notebooks/data_table.ipynb>data table notebook</a>'\n",
              "            + ' to learn more about interactive tables.';\n",
              "          element.innerHTML = '';\n",
              "          dataTable['output_type'] = 'display_data';\n",
              "          await google.colab.output.renderOutput(dataTable, element);\n",
              "          const docLink = document.createElement('div');\n",
              "          docLink.innerHTML = docLinkHtml;\n",
              "          element.appendChild(docLink);\n",
              "        }\n",
              "      </script>\n",
              "    </div>\n",
              "  </div>\n",
              "  "
            ]
          },
          "metadata": {},
          "execution_count": 10
        }
      ],
      "source": [
        "df_axis.head()"
      ]
    },
    {
      "cell_type": "markdown",
      "source": [
        "# Plot"
      ],
      "metadata": {
        "id": "jYg7Ao3hu3_R"
      }
    },
    {
      "cell_type": "markdown",
      "metadata": {
        "id": "MRxKOsXPYXXT"
      },
      "source": [
        "**PLOTS**"
      ]
    },
    {
      "cell_type": "code",
      "execution_count": 11,
      "metadata": {
        "id": "G-4k617fYpAo"
      },
      "outputs": [],
      "source": [
        "import matplotlib.pyplot as plt\n",
        "import seaborn as sns"
      ]
    },
    {
      "cell_type": "code",
      "execution_count": 12,
      "metadata": {
        "id": "64L2IxRt4qMc"
      },
      "outputs": [],
      "source": [
        "features = ['Close','Open','High','Low','Prev Close']"
      ]
    },
    {
      "cell_type": "code",
      "execution_count": 13,
      "metadata": {
        "id": "qguq_f_nYQAL",
        "colab": {
          "base_uri": "https://localhost:8080/",
          "height": 861
        },
        "outputId": "b00f7758-142c-4883-f22b-149dd378598f"
      },
      "outputs": [
        {
          "output_type": "error",
          "ename": "TypeError",
          "evalue": "ignored",
          "traceback": [
            "\u001b[0;31m---------------------------------------------------------------------------\u001b[0m",
            "\u001b[0;31mTypeError\u001b[0m                                 Traceback (most recent call last)",
            "\u001b[0;32m<ipython-input-13-d32e063e2fb0>\u001b[0m in \u001b[0;36m<module>\u001b[0;34m\u001b[0m\n\u001b[1;32m      3\u001b[0m     \u001b[0mdf_sbi\u001b[0m\u001b[0;34m[\u001b[0m\u001b[0mi\u001b[0m\u001b[0;34m]\u001b[0m\u001b[0;34m.\u001b[0m\u001b[0mplot\u001b[0m\u001b[0;34m(\u001b[0m\u001b[0mlabel\u001b[0m\u001b[0;34m=\u001b[0m\u001b[0;34m'SBI'\u001b[0m\u001b[0;34m)\u001b[0m\u001b[0;34m\u001b[0m\u001b[0;34m\u001b[0m\u001b[0m\n\u001b[1;32m      4\u001b[0m     \u001b[0mdf_axis\u001b[0m\u001b[0;34m[\u001b[0m\u001b[0mi\u001b[0m\u001b[0;34m]\u001b[0m\u001b[0;34m.\u001b[0m\u001b[0mplot\u001b[0m\u001b[0;34m(\u001b[0m\u001b[0mlabel\u001b[0m\u001b[0;34m=\u001b[0m\u001b[0;34m'AXIS'\u001b[0m\u001b[0;34m)\u001b[0m\u001b[0;34m\u001b[0m\u001b[0;34m\u001b[0m\u001b[0m\n\u001b[0;32m----> 5\u001b[0;31m     \u001b[0mdf_maruti\u001b[0m\u001b[0;34m[\u001b[0m\u001b[0mi\u001b[0m\u001b[0;34m]\u001b[0m\u001b[0;34m.\u001b[0m\u001b[0mplot\u001b[0m\u001b[0;34m(\u001b[0m\u001b[0mlabel\u001b[0m\u001b[0;34m=\u001b[0m\u001b[0;34m'maruti'\u001b[0m\u001b[0;34m)\u001b[0m\u001b[0;34m\u001b[0m\u001b[0;34m\u001b[0m\u001b[0m\n\u001b[0m\u001b[1;32m      6\u001b[0m     \u001b[0mdf_al\u001b[0m\u001b[0;34m[\u001b[0m\u001b[0mi\u001b[0m\u001b[0;34m]\u001b[0m\u001b[0;34m.\u001b[0m\u001b[0mplot\u001b[0m\u001b[0;34m(\u001b[0m\u001b[0mlabel\u001b[0m\u001b[0;34m=\u001b[0m\u001b[0;34m'Ashok leyland'\u001b[0m\u001b[0;34m)\u001b[0m\u001b[0;34m\u001b[0m\u001b[0;34m\u001b[0m\u001b[0m\n\u001b[1;32m      7\u001b[0m     \u001b[0mplt\u001b[0m\u001b[0;34m.\u001b[0m\u001b[0mtitle\u001b[0m\u001b[0;34m(\u001b[0m\u001b[0mi\u001b[0m\u001b[0;34m)\u001b[0m\u001b[0;34m\u001b[0m\u001b[0;34m\u001b[0m\u001b[0m\n",
            "\u001b[0;32m/usr/local/lib/python3.7/dist-packages/pandas/plotting/_core.py\u001b[0m in \u001b[0;36m__call__\u001b[0;34m(self, *args, **kwargs)\u001b[0m\n\u001b[1;32m    970\u001b[0m                     \u001b[0mdata\u001b[0m\u001b[0;34m.\u001b[0m\u001b[0mcolumns\u001b[0m \u001b[0;34m=\u001b[0m \u001b[0mlabel_name\u001b[0m\u001b[0;34m\u001b[0m\u001b[0;34m\u001b[0m\u001b[0m\n\u001b[1;32m    971\u001b[0m \u001b[0;34m\u001b[0m\u001b[0m\n\u001b[0;32m--> 972\u001b[0;31m         \u001b[0;32mreturn\u001b[0m \u001b[0mplot_backend\u001b[0m\u001b[0;34m.\u001b[0m\u001b[0mplot\u001b[0m\u001b[0;34m(\u001b[0m\u001b[0mdata\u001b[0m\u001b[0;34m,\u001b[0m \u001b[0mkind\u001b[0m\u001b[0;34m=\u001b[0m\u001b[0mkind\u001b[0m\u001b[0;34m,\u001b[0m \u001b[0;34m**\u001b[0m\u001b[0mkwargs\u001b[0m\u001b[0;34m)\u001b[0m\u001b[0;34m\u001b[0m\u001b[0;34m\u001b[0m\u001b[0m\n\u001b[0m\u001b[1;32m    973\u001b[0m \u001b[0;34m\u001b[0m\u001b[0m\n\u001b[1;32m    974\u001b[0m     \u001b[0m__call__\u001b[0m\u001b[0;34m.\u001b[0m\u001b[0m__doc__\u001b[0m \u001b[0;34m=\u001b[0m \u001b[0m__doc__\u001b[0m\u001b[0;34m\u001b[0m\u001b[0;34m\u001b[0m\u001b[0m\n",
            "\u001b[0;32m/usr/local/lib/python3.7/dist-packages/pandas/plotting/_matplotlib/__init__.py\u001b[0m in \u001b[0;36mplot\u001b[0;34m(data, kind, **kwargs)\u001b[0m\n\u001b[1;32m     69\u001b[0m             \u001b[0mkwargs\u001b[0m\u001b[0;34m[\u001b[0m\u001b[0;34m\"ax\"\u001b[0m\u001b[0;34m]\u001b[0m \u001b[0;34m=\u001b[0m \u001b[0mgetattr\u001b[0m\u001b[0;34m(\u001b[0m\u001b[0max\u001b[0m\u001b[0;34m,\u001b[0m \u001b[0;34m\"left_ax\"\u001b[0m\u001b[0;34m,\u001b[0m \u001b[0max\u001b[0m\u001b[0;34m)\u001b[0m\u001b[0;34m\u001b[0m\u001b[0;34m\u001b[0m\u001b[0m\n\u001b[1;32m     70\u001b[0m     \u001b[0mplot_obj\u001b[0m \u001b[0;34m=\u001b[0m \u001b[0mPLOT_CLASSES\u001b[0m\u001b[0;34m[\u001b[0m\u001b[0mkind\u001b[0m\u001b[0;34m]\u001b[0m\u001b[0;34m(\u001b[0m\u001b[0mdata\u001b[0m\u001b[0;34m,\u001b[0m \u001b[0;34m**\u001b[0m\u001b[0mkwargs\u001b[0m\u001b[0;34m)\u001b[0m\u001b[0;34m\u001b[0m\u001b[0;34m\u001b[0m\u001b[0m\n\u001b[0;32m---> 71\u001b[0;31m     \u001b[0mplot_obj\u001b[0m\u001b[0;34m.\u001b[0m\u001b[0mgenerate\u001b[0m\u001b[0;34m(\u001b[0m\u001b[0;34m)\u001b[0m\u001b[0;34m\u001b[0m\u001b[0;34m\u001b[0m\u001b[0m\n\u001b[0m\u001b[1;32m     72\u001b[0m     \u001b[0mplot_obj\u001b[0m\u001b[0;34m.\u001b[0m\u001b[0mdraw\u001b[0m\u001b[0;34m(\u001b[0m\u001b[0;34m)\u001b[0m\u001b[0;34m\u001b[0m\u001b[0;34m\u001b[0m\u001b[0m\n\u001b[1;32m     73\u001b[0m     \u001b[0;32mreturn\u001b[0m \u001b[0mplot_obj\u001b[0m\u001b[0;34m.\u001b[0m\u001b[0mresult\u001b[0m\u001b[0;34m\u001b[0m\u001b[0;34m\u001b[0m\u001b[0m\n",
            "\u001b[0;32m/usr/local/lib/python3.7/dist-packages/pandas/plotting/_matplotlib/core.py\u001b[0m in \u001b[0;36mgenerate\u001b[0;34m(self)\u001b[0m\n\u001b[1;32m    284\u001b[0m     \u001b[0;32mdef\u001b[0m \u001b[0mgenerate\u001b[0m\u001b[0;34m(\u001b[0m\u001b[0mself\u001b[0m\u001b[0;34m)\u001b[0m\u001b[0;34m:\u001b[0m\u001b[0;34m\u001b[0m\u001b[0;34m\u001b[0m\u001b[0m\n\u001b[1;32m    285\u001b[0m         \u001b[0mself\u001b[0m\u001b[0;34m.\u001b[0m\u001b[0m_args_adjust\u001b[0m\u001b[0;34m(\u001b[0m\u001b[0;34m)\u001b[0m\u001b[0;34m\u001b[0m\u001b[0;34m\u001b[0m\u001b[0m\n\u001b[0;32m--> 286\u001b[0;31m         \u001b[0mself\u001b[0m\u001b[0;34m.\u001b[0m\u001b[0m_compute_plot_data\u001b[0m\u001b[0;34m(\u001b[0m\u001b[0;34m)\u001b[0m\u001b[0;34m\u001b[0m\u001b[0;34m\u001b[0m\u001b[0m\n\u001b[0m\u001b[1;32m    287\u001b[0m         \u001b[0mself\u001b[0m\u001b[0;34m.\u001b[0m\u001b[0m_setup_subplots\u001b[0m\u001b[0;34m(\u001b[0m\u001b[0;34m)\u001b[0m\u001b[0;34m\u001b[0m\u001b[0;34m\u001b[0m\u001b[0m\n\u001b[1;32m    288\u001b[0m         \u001b[0mself\u001b[0m\u001b[0;34m.\u001b[0m\u001b[0m_make_plot\u001b[0m\u001b[0;34m(\u001b[0m\u001b[0;34m)\u001b[0m\u001b[0;34m\u001b[0m\u001b[0;34m\u001b[0m\u001b[0m\n",
            "\u001b[0;32m/usr/local/lib/python3.7/dist-packages/pandas/plotting/_matplotlib/core.py\u001b[0m in \u001b[0;36m_compute_plot_data\u001b[0;34m(self)\u001b[0m\n\u001b[1;32m    451\u001b[0m         \u001b[0;31m# no non-numeric frames or series allowed\u001b[0m\u001b[0;34m\u001b[0m\u001b[0;34m\u001b[0m\u001b[0;34m\u001b[0m\u001b[0m\n\u001b[1;32m    452\u001b[0m         \u001b[0;32mif\u001b[0m \u001b[0mis_empty\u001b[0m\u001b[0;34m:\u001b[0m\u001b[0;34m\u001b[0m\u001b[0;34m\u001b[0m\u001b[0m\n\u001b[0;32m--> 453\u001b[0;31m             \u001b[0;32mraise\u001b[0m \u001b[0mTypeError\u001b[0m\u001b[0;34m(\u001b[0m\u001b[0;34m\"no numeric data to plot\"\u001b[0m\u001b[0;34m)\u001b[0m\u001b[0;34m\u001b[0m\u001b[0;34m\u001b[0m\u001b[0m\n\u001b[0m\u001b[1;32m    454\u001b[0m \u001b[0;34m\u001b[0m\u001b[0m\n\u001b[1;32m    455\u001b[0m         \u001b[0mself\u001b[0m\u001b[0;34m.\u001b[0m\u001b[0mdata\u001b[0m \u001b[0;34m=\u001b[0m \u001b[0mnumeric_data\u001b[0m\u001b[0;34m.\u001b[0m\u001b[0mapply\u001b[0m\u001b[0;34m(\u001b[0m\u001b[0mself\u001b[0m\u001b[0;34m.\u001b[0m\u001b[0m_convert_to_ndarray\u001b[0m\u001b[0;34m)\u001b[0m\u001b[0;34m\u001b[0m\u001b[0;34m\u001b[0m\u001b[0m\n",
            "\u001b[0;31mTypeError\u001b[0m: no numeric data to plot"
          ]
        },
        {
          "output_type": "display_data",
          "data": {
            "text/plain": [
              "<Figure size 1440x576 with 1 Axes>"
            ],
            "image/png": "[encoded data removed]"
          },
          "metadata": {
            "needs_background": "light"
          }
        }
      ],
      "source": [
        "for i in features:\n",
        "    plt.figure(figsize=(20,8))\n",
        "    df_sbi[i].plot(label='SBI')\n",
        "    df_axis[i].plot(label='AXIS')\n",
        "    df_maruti[i].plot(label='maruti')\n",
        "    df_al[i].plot(label='Ashok leyland')\n",
        "    plt.title(i)\n",
        "    plt.legend()\n",
        "    plt.show()"
      ]
    },
    {
      "cell_type": "markdown",
      "source": [
        "**Extracting data in CSV format**"
      ],
      "metadata": {
        "id": "d0wGpl4FKJbh"
      }
    },
    {
      "cell_type": "code",
      "execution_count": null,
      "metadata": {
        "id": "GT7bKtF6bqEF"
      },
      "outputs": [],
      "source": [
        "df_sbi.to_csv('sbi.csv')\n",
        "df_maruti.to_csv('Maruti.csv')\n",
        "df_axis.to_csv('AXIS.csv')\n",
        "df_al.to_csv('Ashok leyland.csv')"
      ]
    },
    {
      "cell_type": "markdown",
      "source": [
        "# EDA"
      ],
      "metadata": {
        "id": "jnYWrkrCuzMr"
      }
    },
    {
      "cell_type": "markdown",
      "source": [
        "**EDA**"
      ],
      "metadata": {
        "id": "lLIGMMWyJ50N"
      }
    },
    {
      "cell_type": "code",
      "source": [
        "datas=[df_sbi,df_maruti,df_axis,df_al]#Data Frames\n",
        "names=['SBI','Maruti','AXIS','Ashok leyland']"
      ],
      "metadata": {
        "id": "8-U59hBpKVWO"
      },
      "execution_count": null,
      "outputs": []
    },
    {
      "cell_type": "code",
      "source": [
        "#Removing all the unnecessary columns\n",
        "for i in datas:\n",
        "  i=i.drop(['Series','VWAP','Trades','Deliverable Volume','%Deliverble','Turnover'],axis=1,inplace=True)"
      ],
      "metadata": {
        "id": "liqeLbL8NRhk"
      },
      "execution_count": null,
      "outputs": []
    },
    {
      "cell_type": "markdown",
      "source": [
        "**Describing the data set**"
      ],
      "metadata": {
        "id": "yUYeByL3e_C0"
      }
    },
    {
      "cell_type": "code",
      "execution_count": null,
      "metadata": {
        "id": "bPaBLIAC4qMd"
      },
      "outputs": [],
      "source": [
        "df_maruti.describe()"
      ]
    },
    {
      "cell_type": "code",
      "source": [
        "df_axis.describe()"
      ],
      "metadata": {
        "id": "Zofx8VM_J--j"
      },
      "execution_count": null,
      "outputs": []
    },
    {
      "cell_type": "code",
      "source": [
        "df_maruti.describe()"
      ],
      "metadata": {
        "id": "79BufVi5fQTR"
      },
      "execution_count": null,
      "outputs": []
    },
    {
      "cell_type": "code",
      "source": [
        "df_al.describe()"
      ],
      "metadata": {
        "id": "Tn7cKVNsfR9b"
      },
      "execution_count": null,
      "outputs": []
    },
    {
      "cell_type": "code",
      "source": [
        "df_sbi.index"
      ],
      "metadata": {
        "id": "DaRdb5fggz4x"
      },
      "execution_count": null,
      "outputs": []
    },
    {
      "cell_type": "code",
      "execution_count": null,
      "metadata": {
        "id": "5PPVo6MT4qMe"
      },
      "outputs": [],
      "source": [
        "Companies = [df_maruti, df_al, df_sbi, df_axis]\n",
        "Companies_Title = [\"Maruti\", \"Ashok Leyland\", \"SBI\", \"AXIS Bank\"]"
      ]
    },
    {
      "cell_type": "code",
      "execution_count": null,
      "metadata": {
        "id": "31JWYrD34qMf"
      },
      "outputs": [],
      "source": [
        "for company in Companies:\n",
        "  company[\"Daily Return\"] = company['Close'].pct_change()"
      ]
    },
    {
      "cell_type": "code",
      "execution_count": null,
      "metadata": {
        "id": "KcMlf7cy4qMf"
      },
      "outputs": [],
      "source": [
        "for company in Companies:\n",
        "  company['Date'] = company.index"
      ]
    },
    {
      "cell_type": "code",
      "execution_count": null,
      "metadata": {
        "id": "9UfnT4oe4qMf"
      },
      "outputs": [],
      "source": [
        "plt.figure(figsize=(20, 12))\n",
        "for index, company in enumerate(Companies):\n",
        "  plt.subplot(3, 2, index + 1)\n",
        "  plt.plot(company[\"Date\"], company[\"Daily Return\"])\n",
        "  plt.title(Companies_Title[index])\n",
        "  plt.ylabel('Daily Return')"
      ]
    },
    {
      "cell_type": "code",
      "execution_count": null,
      "metadata": {
        "id": "TBcKYKox4qMf"
      },
      "outputs": [],
      "source": [
        "plt.figure(figsize=(20, 15))\n",
        "for index, company in enumerate(Companies):\n",
        "  plt.subplot(3, 2, index + 1)\n",
        "  sns.distplot(company[\"Daily Return\"].dropna(), color = \"purple\")\n",
        "  plt.title(Companies_Title[index])"
      ]
    },
    {
      "cell_type": "markdown",
      "source": [
        "**Checking for null values**"
      ],
      "metadata": {
        "id": "HRPxmnmRkxmm"
      }
    },
    {
      "cell_type": "code",
      "source": [
        "#Info \n",
        "import warnings\n",
        "warnings.filterwarnings('ignore')\n",
        "for i in range(0,len(datas)):\n",
        "  print('\\n Stock Name: {}\\n'.format(names[i]))\n",
        "  datas[i].info()"
      ],
      "metadata": {
        "id": "nfg1__CLKeJe"
      },
      "execution_count": null,
      "outputs": []
    },
    {
      "cell_type": "markdown",
      "source": [
        "There are no null values in the data set."
      ],
      "metadata": {
        "id": "Chn-0dQDk_v_"
      }
    },
    {
      "cell_type": "code",
      "source": [
        "df_sbi"
      ],
      "metadata": {
        "id": "rJaL3eX_9tio"
      },
      "execution_count": null,
      "outputs": []
    },
    {
      "cell_type": "markdown",
      "source": [
        "**Setting index position**"
      ],
      "metadata": {
        "id": "pkqm2EGoCedA"
      }
    },
    {
      "cell_type": "code",
      "source": [
        "#Coverting the return type of the date column\n",
        "df_sbi['Date']=pd.to_datetime(df_sbi['Date'])\n",
        "df_axis['Date']=pd.to_datetime(df_axis['Date'])\n",
        "df_maruti['Date']=pd.to_datetime(df_maruti['Date'])\n",
        "df_al['Date']=pd.to_datetime(df_al['Date'])"
      ],
      "metadata": {
        "id": "mtgdBjOZChAM"
      },
      "execution_count": null,
      "outputs": []
    },
    {
      "cell_type": "code",
      "source": [
        "#Resetting index postion with date column\n",
        "df_sbi.set_index('Date',inplace=True)\n",
        "df_axis.set_index('Date',inplace=True)\n",
        "df_al.set_index('Date',inplace=True)\n",
        "df_maruti.set_index('Date',inplace=True)"
      ],
      "metadata": {
        "id": "R4kewNqSEu21"
      },
      "execution_count": null,
      "outputs": []
    },
    {
      "cell_type": "markdown",
      "source": [
        "# **Time Series resampling**"
      ],
      "metadata": {
        "id": "hEVNO81ylcw3"
      }
    },
    {
      "cell_type": "markdown",
      "source": [
        "Comparison of min and max close price year wise"
      ],
      "metadata": {
        "id": "RwmN-E-XMSLk"
      }
    },
    {
      "cell_type": "markdown",
      "source": [
        "**SBI**"
      ],
      "metadata": {
        "id": "leCNpkLRMAbG"
      }
    },
    {
      "cell_type": "code",
      "source": [
        "#Comparison of max and min close price year wise\n",
        "plt.figure(figsize=(15,5))\n",
        "df_sbi.resample(rule='A').min()['Close'].plot(label='Min')    #Resampling to week level and the criterion for resampling is min\n",
        "df_sbi.resample(rule='A').max()['Close'].plot(label='Max')\n",
        "plt.legend()\n",
        "plt.title('SBI: Close price V/S Year',color='Blue',fontsize=15)"
      ],
      "metadata": {
        "id": "Vj1bS3j_lgG2"
      },
      "execution_count": null,
      "outputs": []
    },
    {
      "cell_type": "markdown",
      "source": [
        "**AXIS Bank**"
      ],
      "metadata": {
        "id": "VhZJ1giVL6qQ"
      }
    },
    {
      "cell_type": "code",
      "source": [
        "plt.figure(figsize=(15,5))\n",
        "df_axis.resample(rule='A').min()['Close'].plot(label='Min')    #Resampling to week level and the criterion for resampling is min\n",
        "df_axis.resample(rule='A').max()['Close'].plot(label='Max')\n",
        "plt.legend()\n",
        "plt.title('AXIS: Close price V/S Year',color='Blue',fontsize=15)"
      ],
      "metadata": {
        "id": "oqt6fbGlLxnN"
      },
      "execution_count": null,
      "outputs": []
    },
    {
      "cell_type": "code",
      "source": [
        "plt.figure(figsize=(15,5))\n",
        "df_al.resample(rule='A').min()['Close'].plot(label='Min')    #Resampling to week level and the criterion for resampling is min\n",
        "df_al.resample(rule='A').max()['Close'].plot(label='Max')\n",
        "plt.legend()\n",
        "plt.title('ASHOK LEYLAND: Close price V/S Year',color='Blue',fontsize=15)"
      ],
      "metadata": {
        "id": "VDRXBcaUMDTQ"
      },
      "execution_count": null,
      "outputs": []
    },
    {
      "cell_type": "code",
      "source": [
        "plt.figure(figsize=(15,5))\n",
        "df_maruti.resample(rule='A').min()['Close'].plot(label='Min')    #Resampling to week level and the criterion for resampling is min\n",
        "df_maruti.resample(rule='A').max()['Close'].plot(label='Max')\n",
        "plt.legend()\n",
        "plt.title('MARUTI: Close price V/S Year',color='Blue',fontsize=15)"
      ],
      "metadata": {
        "id": "1F-MXCj5MM4N"
      },
      "execution_count": null,
      "outputs": []
    },
    {
      "cell_type": "code",
      "source": [
        "#Resampling the data into week basis\n",
        "sbi=df_sbi.resample(rule='w').mean()\n",
        "maruti=df_maruti.resample(rule='w').mean()\n",
        "al=df_al.resample(rule='w').mean()\n",
        "axis=df_axis.resample(rule='w').mean()"
      ],
      "metadata": {
        "id": "ZvhspPfkRb4S"
      },
      "execution_count": null,
      "outputs": []
    },
    {
      "cell_type": "markdown",
      "source": [
        "**After Downsampling**"
      ],
      "metadata": {
        "id": "IiZS2z_1ZceI"
      }
    },
    {
      "cell_type": "code",
      "source": [
        "sbi.info()"
      ],
      "metadata": {
        "id": "qMRm9URmZe51"
      },
      "execution_count": null,
      "outputs": []
    },
    {
      "cell_type": "code",
      "source": [
        "maruti.info()"
      ],
      "metadata": {
        "id": "ybNRYm0FZgP7"
      },
      "execution_count": null,
      "outputs": []
    },
    {
      "cell_type": "code",
      "source": [
        "al.info()"
      ],
      "metadata": {
        "id": "PTzYpnTZZhwy"
      },
      "execution_count": null,
      "outputs": []
    },
    {
      "cell_type": "code",
      "source": [
        "axis.info()"
      ],
      "metadata": {
        "id": "RUdkIUk1ZmRi"
      },
      "execution_count": null,
      "outputs": []
    },
    {
      "cell_type": "markdown",
      "source": [
        "# Rolling average"
      ],
      "metadata": {
        "id": "Wf05Mekl5S0z"
      }
    },
    {
      "cell_type": "markdown",
      "source": [
        "**Smoothing**"
      ],
      "metadata": {
        "id": "MBPt4oaj6uaX"
      }
    },
    {
      "cell_type": "code",
      "source": [
        "#For loop to get rolling average\n",
        "company_name=[sbi,axis,maruti,al]   #list which holds the data frame \n",
        "for i in company_name:\n",
        "  i['5 Week rolling average']=i['Close'].rolling(5).mean()"
      ],
      "metadata": {
        "id": "q91bQ9ywc3Rk"
      },
      "execution_count": null,
      "outputs": []
    },
    {
      "cell_type": "code",
      "source": [
        "name=['SBI','AXIS BANK','MARUTI','ASHOK LEYLAND']\n",
        "plt.figure(figsize=(20,20))\n",
        "for i in range(0,4):\n",
        "  plt.subplot(4,1,i+1)\n",
        "  company_name[i]['5 Week rolling average'].plot(color='blue',label='Close 5 week rolling average')\n",
        "  company_name[i]['Close'].plot(label='Close',color='red')\n",
        "  plt.title(name[i])\n",
        "  plt.legend()"
      ],
      "metadata": {
        "id": "Yh-_n9pQeELh"
      },
      "execution_count": null,
      "outputs": []
    },
    {
      "cell_type": "markdown",
      "source": [
        "# Decomposition Plots"
      ],
      "metadata": {
        "id": "kDkAKj3PZ6mq"
      }
    },
    {
      "cell_type": "code",
      "source": [
        "#Maruti\n",
        "from statsmodels.tsa.seasonal import seasonal_decompose\n",
        "decomp=seasonal_decompose(df_maruti.Close,freq=5)\n",
        "decomp.plot()\n",
        "plt.show()"
      ],
      "metadata": {
        "id": "E7t4qy7HZ_C3"
      },
      "execution_count": null,
      "outputs": []
    },
    {
      "cell_type": "markdown",
      "source": [
        "Show an overall non linear increasing trend.\n",
        "No seasonality is observed.\n"
      ],
      "metadata": {
        "id": "ASUE-kLOa6eH"
      }
    },
    {
      "cell_type": "code",
      "source": [
        "#Ashok leyland\n",
        "decomp=seasonal_decompose(df_al.Close,freq=5)\n",
        "decomp.plot()\n",
        "plt.show()"
      ],
      "metadata": {
        "id": "GCLRElhea5Sp"
      },
      "execution_count": null,
      "outputs": []
    },
    {
      "cell_type": "markdown",
      "source": [
        "Gradual increasing trend can be observed.\n",
        "There is no seasonal effects on the close price"
      ],
      "metadata": {
        "id": "niQ9gbY5dTw1"
      }
    },
    {
      "cell_type": "code",
      "source": [
        "#AXIS\n",
        "decomp=seasonal_decompose(df_axis.Close,freq=5)\n",
        "decomp.plot()\n",
        "plt.show()"
      ],
      "metadata": {
        "id": "B2oWnIk4c_oo"
      },
      "execution_count": null,
      "outputs": []
    },
    {
      "cell_type": "code",
      "source": [
        "decomp=seasonal_decompose(df_sbi.Close,freq=5)\n",
        "decomp.plot()\n",
        "plt.show()"
      ],
      "metadata": {
        "id": "tIkEqPI3dFuK"
      },
      "execution_count": null,
      "outputs": []
    },
    {
      "cell_type": "markdown",
      "source": [
        "# Box plots"
      ],
      "metadata": {
        "id": "zFY4aL2uirWv"
      }
    },
    {
      "cell_type": "code",
      "source": [
        "sbi_=df_sbi.reset_index()\n",
        "maruti_=df_maruti.reset_index()\n",
        "axis_bank=df_axis.reset_index()\n",
        "ashok=df_al.reset_index()"
      ],
      "metadata": {
        "id": "QYzYSpB4ipLs"
      },
      "execution_count": null,
      "outputs": []
    },
    {
      "cell_type": "code",
      "source": [
        "#Creating month columns\n",
        "sbi_['month']=pd.DatetimeIndex(sbi_['Date']).month\n",
        "maruti_['month']=pd.DatetimeIndex(maruti_['Date']).month\n",
        "axis_bank['month']=pd.DatetimeIndex(axis_bank['Date']).month\n",
        "ashok['month']=pd.DatetimeIndex(ashok['Date']).month"
      ],
      "metadata": {
        "id": "ZnZrY6S-j-b2"
      },
      "execution_count": null,
      "outputs": []
    },
    {
      "cell_type": "code",
      "source": [
        "#Creating year columns\n",
        "sbi_['year']=pd.DatetimeIndex(sbi_['Date']).year\n",
        "maruti_['year']=pd.DatetimeIndex(maruti_['Date']).year\n",
        "axis_bank['year']=pd.DatetimeIndex(axis_bank['Date']).year\n",
        "ashok['year']=pd.DatetimeIndex(ashok['Date']).year"
      ],
      "metadata": {
        "id": "03gKs1bHo93i"
      },
      "execution_count": null,
      "outputs": []
    },
    {
      "cell_type": "code",
      "source": [
        "c_name=[sbi_,maruti_,axis_bank,ashok]\n",
        "c_names=['SBI','Maruti','Axis bank','Ashok leyland']\n",
        "plt.figure(figsize=(15,15))\n",
        "for i in range(0,len(c_name)):\n",
        "  plt.subplot(2,2,i+1)\n",
        "  sns.boxplot(x='month',y='Close',data=c_name[i])\n",
        "  plt.title(c_names[i])"
      ],
      "metadata": {
        "id": "IxnXPRPzpWN1"
      },
      "execution_count": null,
      "outputs": []
    },
    {
      "cell_type": "code",
      "source": [
        "plt.figure(figsize=(25,15))\n",
        "for i in range(0,len(c_name)):\n",
        "  plt.subplot(2,2,i+1)\n",
        "  sns.boxplot(x='year',y='Close',data=c_name[i])\n",
        "  plt.title(c_names[i])"
      ],
      "metadata": {
        "id": "nzzaMl43pGv3"
      },
      "execution_count": null,
      "outputs": []
    },
    {
      "cell_type": "code",
      "source": [
        "plt.figure(figsize=(10,10))\n",
        "for i in range(0,len(c_name)):\n",
        "  plt.subplot(2,2,i+1)\n",
        "  sns.boxplot(c_name[i]['Close'])\n",
        "  plt.title(c_names[i])"
      ],
      "metadata": {
        "id": "Mo8ByJvxhaEn"
      },
      "execution_count": null,
      "outputs": []
    },
    {
      "cell_type": "markdown",
      "source": [
        "# Pivot table"
      ],
      "metadata": {
        "id": "8XFppukCmB40"
      }
    },
    {
      "cell_type": "code",
      "source": [
        "def pivot_table(df):\n",
        "  pvt_tbl=df.pivot_table(index='year',columns='month',values='Close')\n",
        "  plt.figure(figsize=(15,20))\n",
        "  pvt_tbl.fillna(0)\n",
        "  return sns.heatmap(pvt_tbl,annot=True,fmt='g')"
      ],
      "metadata": {
        "id": "uqChUWmNmJBO"
      },
      "execution_count": null,
      "outputs": []
    },
    {
      "cell_type": "code",
      "source": [
        "pivot_table(sbi_)\n",
        "plt.title('SBI')"
      ],
      "metadata": {
        "id": "O9Hk6H0MmzZG"
      },
      "execution_count": null,
      "outputs": []
    },
    {
      "cell_type": "code",
      "source": [
        "pivot_table(maruti_)\n",
        "plt.title('Maruti')"
      ],
      "metadata": {
        "id": "CkeRkykznoGe"
      },
      "execution_count": null,
      "outputs": []
    },
    {
      "cell_type": "code",
      "source": [
        "pivot_table(axis_bank)\n",
        "plt.title('AXIS Bank')"
      ],
      "metadata": {
        "id": "0UsETY0TnvIu"
      },
      "execution_count": null,
      "outputs": []
    },
    {
      "cell_type": "code",
      "source": [
        "pivot_table(ashok)\n",
        "plt.title('Ashok leyland')"
      ],
      "metadata": {
        "id": "6uSDvKuCn4_H"
      },
      "execution_count": null,
      "outputs": []
    },
    {
      "cell_type": "markdown",
      "source": [
        "# **Pre-processing**"
      ],
      "metadata": {
        "id": "eD5NIYPfLllk"
      }
    },
    {
      "cell_type": "markdown",
      "source": [
        "Taking the close price alone"
      ],
      "metadata": {
        "id": "unKeJMZSL-rI"
      }
    },
    {
      "cell_type": "code",
      "source": [
        "sbi=sbi.reset_index()\n",
        "axis=axis.reset_index()\n",
        "maruti=maruti.reset_index()\n",
        "al=al.reset_index()"
      ],
      "metadata": {
        "id": "uqL8_4OgR1On"
      },
      "execution_count": null,
      "outputs": []
    },
    {
      "cell_type": "code",
      "source": [
        "#Creating a DataFrame for the model building\n",
        "stock=pd.DataFrame()\n",
        "stock['Date']=sbi['Date']\n",
        "stock['sbi']=sbi['Close']\n",
        "stock['axis']=axis['Close']\n",
        "stock['maruti']=maruti['Close']\n",
        "stock['ashok_leyland']=al['Close']"
      ],
      "metadata": {
        "id": "B4J-r0hvC1hH"
      },
      "execution_count": null,
      "outputs": []
    },
    {
      "cell_type": "markdown",
      "source": [
        "**Transformation**"
      ],
      "metadata": {
        "id": "7FNthCdBFUBr"
      }
    },
    {
      "cell_type": "code",
      "source": [
        "stock[\"month\"] = stock.Date.dt.strftime(\"%b\") # month extraction\n",
        "stock[\"year\"] = stock.Date.dt.strftime(\"%Y\")  #year extraction\n",
        "stock['time']=pd.Series(range(1,len(stock)+1))  #creating time index for prediction 1 unit is 1 week\n",
        "stock['time_sq']=stock['time']*stock['time']  #creating time square columns for quadratic model\n",
        "stock['sbi_log']=np.log(stock['sbi'])         #taking log for exponential model\n",
        "stock['axis_log']=np.log(stock['axis'])\n",
        "stock['maruti_log']=np.log(stock['maruti'])\n",
        "stock['ashok_log']=np.log(stock['ashok_leyland'])"
      ],
      "metadata": {
        "id": "-ONZqgB8Nkrb"
      },
      "execution_count": null,
      "outputs": []
    },
    {
      "cell_type": "code",
      "source": [
        "month=pd.get_dummies(stock['month'])          #creating dummies for seasonality \n",
        "stock=pd.concat([stock,month],axis=1)       \n",
        "stock.drop(['month'],axis=1,inplace=True)       "
      ],
      "metadata": {
        "id": "GntB-noTOKqz"
      },
      "execution_count": null,
      "outputs": []
    },
    {
      "cell_type": "code",
      "source": [
        "stock"
      ],
      "metadata": {
        "id": "hQt1N1szHWy9"
      },
      "execution_count": null,
      "outputs": []
    },
    {
      "cell_type": "markdown",
      "source": [
        "**Splitting the data**"
      ],
      "metadata": {
        "id": "m1PecP6qHnp8"
      }
    },
    {
      "cell_type": "code",
      "source": [
        "x1=int(len(stock)*.8)\n",
        "x2=int(len(stock)-x1)\n",
        "print(x1,x2)"
      ],
      "metadata": {
        "id": "tkFuyYY-VUJ_"
      },
      "execution_count": null,
      "outputs": []
    },
    {
      "cell_type": "code",
      "source": [
        "#train =80% test 20%\n",
        "train=stock.head(x1)\n",
        "test=stock.tail(x2)"
      ],
      "metadata": {
        "id": "LnPz18axTZIT"
      },
      "execution_count": null,
      "outputs": []
    },
    {
      "cell_type": "code",
      "source": [
        "train.head()"
      ],
      "metadata": {
        "id": "GR-WikGUWjAV"
      },
      "execution_count": null,
      "outputs": []
    },
    {
      "cell_type": "markdown",
      "source": [
        "# Model based methods"
      ],
      "metadata": {
        "id": "3AZAp7kAWJhL"
      }
    },
    {
      "cell_type": "markdown",
      "source": [
        "# Linear model"
      ],
      "metadata": {
        "id": "tjHM-dU396Cb"
      }
    },
    {
      "cell_type": "code",
      "source": [
        "#evaluation metrics\n",
        "from sklearn.metrics import mean_squared_error"
      ],
      "metadata": {
        "id": "q60LO4Z_W5HQ"
      },
      "execution_count": null,
      "outputs": []
    },
    {
      "cell_type": "code",
      "source": [
        "#Ploting function\n",
        "score=[]\n",
        "name=[]\n",
        "def plot(a,b):\n",
        "  plt.plot(a,label='Actual')\n",
        "  plt.plot(b,label='Predicted')\n",
        "  plt.legend()\n",
        "  return plt"
      ],
      "metadata": {
        "id": "KgQcq2to86Df"
      },
      "execution_count": null,
      "outputs": []
    },
    {
      "cell_type": "code",
      "source": [
        "#Linear model\n",
        "#sbi\n",
        "import statsmodels.formula.api as smf\n",
        "linear_model=smf.ols('sbi~time',data=train).fit()\n",
        "pred=linear_model.predict(test['time'])\n",
        "rmse=np.sqrt(mean_squared_error(pred,test['sbi']))\n",
        "score.append(rmse)\n",
        "name.append('Linear_sbi')\n",
        "print('RMSE:=',rmse)\n",
        "plot(test['sbi'],pred)"
      ],
      "metadata": {
        "id": "K9SWSS9yWStm"
      },
      "execution_count": null,
      "outputs": []
    },
    {
      "cell_type": "code",
      "source": [
        "#Axis bank\n",
        "linear_model=smf.ols('axis~time',data=train).fit()\n",
        "pred=linear_model.predict(test['time'])\n",
        "rmse=np.sqrt(mean_squared_error(pred,test['axis']))\n",
        "score.append(rmse)\n",
        "name.append('Linear_axis')\n",
        "print('RMSE:=',rmse)\n",
        "plot(test['axis'],pred)"
      ],
      "metadata": {
        "id": "3pils_uo-51K"
      },
      "execution_count": null,
      "outputs": []
    },
    {
      "cell_type": "code",
      "source": [
        "#maruti bank\n",
        "linear_model=smf.ols('maruti~time',data=train).fit()\n",
        "pred=linear_model.predict(test['time'])\n",
        "rmse=np.sqrt(mean_squared_error(pred,test['maruti']))\n",
        "score.append(rmse)\n",
        "name.append('Linear_maruti')\n",
        "print('RMSE:=',rmse)\n",
        "plot(test['maruti'],pred)"
      ],
      "metadata": {
        "id": "zGSgt5to9wCC"
      },
      "execution_count": null,
      "outputs": []
    },
    {
      "cell_type": "code",
      "source": [
        "#Ashok leyland\n",
        "linear_model=smf.ols('ashok_leyland~time',data=train).fit()\n",
        "pred=linear_model.predict(test['time'])\n",
        "rmse=np.sqrt(mean_squared_error(pred,test['ashok_leyland']))\n",
        "score.append(rmse)\n",
        "name.append('Linear_leyland')\n",
        "print('RMSE:=',rmse)\n",
        "plot(test['ashok_leyland'],pred)"
      ],
      "metadata": {
        "id": "35dK3hy-Ajr6"
      },
      "execution_count": null,
      "outputs": []
    },
    {
      "cell_type": "markdown",
      "source": [
        "# Exponential Model"
      ],
      "metadata": {
        "id": "8yKpdDKmCvrJ"
      }
    },
    {
      "cell_type": "code",
      "source": [
        "#SBI\n",
        "exp=smf.ols('sbi_log~time',data=train).fit()\n",
        "pred=exp.predict(test['time'])\n",
        "rmse=np.sqrt(mean_squared_error(pred,test['sbi']))\n",
        "score.append(rmse)\n",
        "name.append('Exponential_sbi')\n",
        "print('RMSE:=',rmse)\n",
        "plot(test['sbi'],pred)"
      ],
      "metadata": {
        "id": "mxudbxQPC1cY"
      },
      "execution_count": null,
      "outputs": []
    },
    {
      "cell_type": "code",
      "source": [
        "#AXIS\n",
        "exp=smf.ols('axis_log~time',data=train).fit()\n",
        "pred=exp.predict(test['time'])\n",
        "rmse=np.sqrt(mean_squared_error(pred,test['axis']))\n",
        "score.append(rmse)\n",
        "name.append('Exponential_Axis')\n",
        "print('RMSE:=',rmse)\n",
        "plot(test['axis'],pred)"
      ],
      "metadata": {
        "id": "2iV8ubUDDXT2"
      },
      "execution_count": null,
      "outputs": []
    },
    {
      "cell_type": "code",
      "source": [
        "#Maruti\n",
        "exp=smf.ols('maruti_log~time',data=train).fit()\n",
        "pred=exp.predict(test['time'])\n",
        "rmse=np.sqrt(mean_squared_error(pred,test['maruti']))\n",
        "score.append(rmse)\n",
        "name.append('Exponential_maruti')\n",
        "print('RMSE:=',rmse)\n",
        "plot(test['maruti'],pred)"
      ],
      "metadata": {
        "id": "IeE6URIcDb8f"
      },
      "execution_count": null,
      "outputs": []
    },
    {
      "cell_type": "code",
      "source": [
        "#Ashok leyland\n",
        "exp=smf.ols('ashok_log~time',data=train).fit()\n",
        "pred=exp.predict(test['time'])\n",
        "rmse=np.sqrt(mean_squared_error(pred,test['ashok_leyland']))\n",
        "score.append(rmse)\n",
        "name.append('Exponential_leyland')\n",
        "print('RMSE:=',rmse)\n",
        "plot(test['ashok_leyland'],pred)"
      ],
      "metadata": {
        "id": "UC9oaz3qDnMl"
      },
      "execution_count": null,
      "outputs": []
    },
    {
      "cell_type": "markdown",
      "source": [
        "# Quadratic model"
      ],
      "metadata": {
        "id": "5qJXZF80EfYO"
      }
    },
    {
      "cell_type": "code",
      "source": [
        "#SBI\n",
        "quadratic=smf.ols('sbi~time+time_sq',data=train).fit()\n",
        "pred=quadratic.predict(test[['time','time_sq']])\n",
        "rmse=np.sqrt(mean_squared_error(pred,test['sbi']))\n",
        "score.append(rmse)\n",
        "name.append('Quadratic_sbi')\n",
        "print('RMSE:=',rmse)\n",
        "plot(test['sbi'],pred)"
      ],
      "metadata": {
        "id": "r4Y2HzMUE3nK"
      },
      "execution_count": null,
      "outputs": []
    },
    {
      "cell_type": "code",
      "source": [
        "#Axis\n",
        "quadratic=smf.ols('axis~time+time_sq',data=train).fit()\n",
        "pred=quadratic.predict(test[['time','time_sq']])\n",
        "rmse=np.sqrt(mean_squared_error(pred,test['axis']))\n",
        "score.append(rmse)\n",
        "name.append('Quadratic_axis')\n",
        "print('RMSE:=',rmse)\n",
        "plot(test['axis'],pred)"
      ],
      "metadata": {
        "id": "QUhvaXdlFmTv"
      },
      "execution_count": null,
      "outputs": []
    },
    {
      "cell_type": "code",
      "source": [
        "#Axis\n",
        "quadratic=smf.ols('maruti~time+time_sq',data=train).fit()\n",
        "pred=quadratic.predict(test[['time','time_sq']])\n",
        "rmse=np.sqrt(mean_squared_error(pred,test['maruti']))\n",
        "score.append(rmse)\n",
        "name.append('Quadratic_maruti')\n",
        "print('RMSE:=',rmse)\n",
        "plot(test['maruti'],pred)"
      ],
      "metadata": {
        "id": "ycQKJKmrFzsi"
      },
      "execution_count": null,
      "outputs": []
    },
    {
      "cell_type": "code",
      "source": [
        "#Ashok leyland\n",
        "quadratic=smf.ols('ashok_leyland~time+time_sq',data=train).fit()\n",
        "pred=quadratic.predict(test[['time','time_sq']])\n",
        "rmse=np.sqrt(mean_squared_error(pred,test['ashok_leyland']))\n",
        "score.append(rmse)\n",
        "name.append('Quadratic_ashok_leyland')\n",
        "print('RMSE:=',rmse)\n",
        "plot(test['ashok_leyland'],pred)"
      ],
      "metadata": {
        "id": "QF4IpvHoF1E2"
      },
      "execution_count": null,
      "outputs": []
    },
    {
      "cell_type": "markdown",
      "source": [
        "# Additive seasonality"
      ],
      "metadata": {
        "id": "osObZUXNGPuT"
      }
    },
    {
      "cell_type": "code",
      "source": [
        "#SBI\n",
        "add_season=smf.ols('sbi~Jan+Feb+Mar+Apr+May+Jun+Jul+Aug+Sep+Oct+Nov',data=train).fit()\n",
        "pred=pd.Series(add_season.predict(pd.DataFrame(test[['Jan','Feb','Mar','Apr','May','Jun','Jul','Aug','Sep','Oct','Nov']])))\n",
        "rmse=np.sqrt(mean_squared_error(pred,test['sbi']))\n",
        "score.append(rmse)\n",
        "name.append('additive_ seasonality SBI')\n",
        "print('RMSE:=',rmse)\n",
        "plot(test['sbi'],pred)"
      ],
      "metadata": {
        "id": "XpFup1mpGSTf"
      },
      "execution_count": null,
      "outputs": []
    },
    {
      "cell_type": "code",
      "source": [
        "#Axis\n",
        "add_season=smf.ols('axis~Jan+Feb+Mar+Apr+May+Jun+Jul+Aug+Sep+Oct+Nov',data=train).fit()\n",
        "pred=pd.Series(add_season.predict(pd.DataFrame(test[['Jan','Feb','Mar','Apr','May','Jun','Jul','Aug','Sep','Oct','Nov']])))\n",
        "rmse=np.sqrt(mean_squared_error(pred,test['axis']))\n",
        "score.append(rmse)\n",
        "name.append('additive_ seasonality Axis')\n",
        "print('RMSE:=',rmse)\n",
        "plot(test['axis'],pred)"
      ],
      "metadata": {
        "id": "r05S8_qcIN0z"
      },
      "execution_count": null,
      "outputs": []
    },
    {
      "cell_type": "code",
      "source": [
        "#Maruti\n",
        "add_season=smf.ols('maruti~Jan+Feb+Mar+Apr+May+Jun+Jul+Aug+Sep+Oct+Nov',data=train).fit()\n",
        "pred=pd.Series(add_season.predict(pd.DataFrame(test[['Jan','Feb','Mar','Apr','May','Jun','Jul','Aug','Sep','Oct','Nov']])))\n",
        "rmse=np.sqrt(mean_squared_error(pred,test['maruti']))\n",
        "score.append(rmse)\n",
        "name.append('additive_ seasonality Axis')\n",
        "print('RMSE:=',rmse)\n",
        "plot(test['maruti'],pred)"
      ],
      "metadata": {
        "id": "RGvus-vIIbEq"
      },
      "execution_count": null,
      "outputs": []
    },
    {
      "cell_type": "code",
      "source": [
        "#Ashok leyland\n",
        "add_season=smf.ols('ashok_leyland~Jan+Feb+Mar+Apr+May+Jun+Jul+Aug+Sep+Oct+Nov',data=train).fit()\n",
        "pred=pd.Series(add_season.predict(pd.DataFrame(test[['Jan','Feb','Mar','Apr','May','Jun','Jul','Aug','Sep','Oct','Nov']])))\n",
        "rmse=np.sqrt(mean_squared_error(pred,test['ashok_leyland']))\n",
        "score.append(rmse)\n",
        "name.append('additive_ seasonality Axis')\n",
        "print('RMSE:=',rmse)\n",
        "plot(test['ashok_leyland'],pred)"
      ],
      "metadata": {
        "id": "KrnKw23RImgk"
      },
      "execution_count": null,
      "outputs": []
    },
    {
      "cell_type": "markdown",
      "source": [
        "# Additive seasonality quadratic"
      ],
      "metadata": {
        "id": "3P6xJvhCZMpc"
      }
    },
    {
      "cell_type": "code",
      "source": [
        "#SBI\n",
        "add_season_quadratic=smf.ols('sbi~time+time_sq+Jan+Feb+Mar+Apr+May+Jun+Jul+Aug+Sep+Oct+Nov',data=train).fit()\n",
        "pred=pd.Series(add_season_quadratic.predict(pd.DataFrame(test[['time','time_sq','Jan','Feb','Mar','Apr','May','Jun','Jul','Aug','Sep','Oct','Nov']])))\n",
        "rmse=np.sqrt(mean_squared_error(pred,test['sbi']))\n",
        "score.append(rmse)\n",
        "name.append('additive_ seasonality quadratic sbi')\n",
        "print('RMSE:=',rmse)\n",
        "plot(test['sbi'],pred)"
      ],
      "metadata": {
        "id": "Z96oCiU8ZwS2"
      },
      "execution_count": null,
      "outputs": []
    },
    {
      "cell_type": "code",
      "source": [
        "#Axis\n",
        "add_season_quadratic=smf.ols('axis~time+time_sq+Jan+Feb+Mar+Apr+May+Jun+Jul+Aug+Sep+Oct+Nov',data=train).fit()\n",
        "pred=pd.Series(add_season_quadratic.predict(pd.DataFrame(test[['time','time_sq','Jan','Feb','Mar','Apr','May','Jun','Jul','Aug','Sep','Oct','Nov']])))\n",
        "rmse=np.sqrt(mean_squared_error(pred,test['axis']))\n",
        "score.append(rmse)\n",
        "name.append('additive_ seasonality quadratic axis')\n",
        "print('RMSE:=',rmse)\n",
        "plot(test['axis'],pred)"
      ],
      "metadata": {
        "id": "pk_-NM1DaEoA"
      },
      "execution_count": null,
      "outputs": []
    },
    {
      "cell_type": "code",
      "source": [
        "#Maruti\n",
        "add_season_quadratic=smf.ols('maruti~time+time_sq+Jan+Feb+Mar+Apr+May+Jun+Jul+Aug+Sep+Oct+Nov',data=train).fit()\n",
        "pred=pd.Series(add_season_quadratic.predict(pd.DataFrame(test[['time','time_sq','Jan','Feb','Mar','Apr','May','Jun','Jul','Aug','Sep','Oct','Nov']])))\n",
        "rmse=np.sqrt(mean_squared_error(pred,test['maruti']))\n",
        "score.append(rmse)\n",
        "name.append('additive_ seasonality quadratic maruti')\n",
        "print('RMSE:=',rmse)\n",
        "plot(test['maruti'],pred)"
      ],
      "metadata": {
        "id": "lZn_vOY1Z98L"
      },
      "execution_count": null,
      "outputs": []
    },
    {
      "cell_type": "code",
      "source": [
        "#Ashok leyland\n",
        "add_season_quadratic=smf.ols('ashok_leyland~time+time_sq+Jan+Feb+Mar+Apr+May+Jun+Jul+Aug+Sep+Oct+Nov',data=train).fit()\n",
        "pred=pd.Series(add_season_quadratic.predict(pd.DataFrame(test[['time','time_sq','Jan','Feb','Mar','Apr','May','Jun','Jul','Aug','Sep','Oct','Nov']])))\n",
        "rmse=np.sqrt(mean_squared_error(pred,test['ashok_leyland']))\n",
        "score.append(rmse)\n",
        "name.append('additive_ seasonality ashok_leyland')\n",
        "print('RMSE:=',rmse)\n",
        "plot(test['ashok_leyland'],pred)"
      ],
      "metadata": {
        "id": "X2h5KYpmZSsq"
      },
      "execution_count": null,
      "outputs": []
    },
    {
      "cell_type": "markdown",
      "source": [
        "# Multiplicative seasonality"
      ],
      "metadata": {
        "id": "CXsa6umCamyS"
      }
    },
    {
      "cell_type": "code",
      "source": [
        "#SBI\n",
        "Mul_Add_sea = smf.ols('sbi_log~time+Jan+Feb+Mar+Apr+May+Jun+Jul+Aug+Sep+Oct+Nov',data = train).fit()\n",
        "pred = pd.Series(Mul_Add_sea.predict(test))\n",
        "rmse=np.sqrt(mean_squared_error(pred,test['sbi']))\n",
        "score.append(rmse)\n",
        "name.append('additive_ seasonality quadratic sbi')\n",
        "print('RMSE:=',rmse)\n",
        "plot(test['sbi'],pred)"
      ],
      "metadata": {
        "id": "Hx_43mAbbqVW"
      },
      "execution_count": null,
      "outputs": []
    },
    {
      "cell_type": "code",
      "source": [
        "#Axis\n",
        "Mul_Add_sea = smf.ols('axis_log~time+Jan+Feb+Mar+Apr+May+Jun+Jul+Aug+Sep+Oct+Nov',data = train).fit()\n",
        "pred = pd.Series(Mul_Add_sea.predict(test))\n",
        "rmse=np.sqrt(mean_squared_error(pred,test['axis']))\n",
        "score.append(rmse)\n",
        "name.append('Multiplicative_ seasonality axis')\n",
        "print('RMSE:=',rmse)\n",
        "plot(test['axis'],pred)"
      ],
      "metadata": {
        "id": "CJfmFQeQcD7i"
      },
      "execution_count": null,
      "outputs": []
    },
    {
      "cell_type": "code",
      "source": [
        "#maruti\n",
        "Mul_Add_sea = smf.ols('maruti_log~time+Jan+Feb+Mar+Apr+May+Jun+Jul+Aug+Sep+Oct+Nov',data = train).fit()\n",
        "pred = pd.Series(Mul_Add_sea.predict(test))\n",
        "rmse=np.sqrt(mean_squared_error(pred,test['maruti']))\n",
        "score.append(rmse)\n",
        "name.append('Multiplicative_ seasonality maruti')\n",
        "print('RMSE:=',rmse)\n",
        "plot(test['maruti'],pred)"
      ],
      "metadata": {
        "id": "1pXXR-1scNQM"
      },
      "execution_count": null,
      "outputs": []
    },
    {
      "cell_type": "code",
      "source": [
        "#Ashok leyland\n",
        "Mul_Add_sea = smf.ols('ashok_log~time+Jan+Feb+Mar+Apr+May+Jun+Jul+Aug+Sep+Oct+Nov',data = train).fit()\n",
        "pred = pd.Series(Mul_Add_sea.predict(test))\n",
        "rmse=np.sqrt(mean_squared_error(pred,test['ashok_leyland']))\n",
        "score.append(rmse)\n",
        "name.append('Multiplicative_ seasonality ashok_leyland')\n",
        "print('RMSE:=',rmse)\n",
        "plot(test['ashok_leyland'],pred)"
      ],
      "metadata": {
        "id": "XfSDR0NzcVC4"
      },
      "execution_count": null,
      "outputs": []
    },
    {
      "cell_type": "markdown",
      "source": [
        "# Simple exponential method"
      ],
      "metadata": {
        "id": "86r4JNLynieX"
      }
    },
    {
      "cell_type": "code",
      "source": [
        "from statsmodels.tsa.holtwinters import SimpleExpSmoothing,Holt,ExponentialSmoothing"
      ],
      "metadata": {
        "id": "fOuU3LbznmXl"
      },
      "execution_count": null,
      "outputs": []
    },
    {
      "cell_type": "code",
      "source": [
        "#SBI\n",
        "ses=SimpleExpSmoothing(stock['sbi']).fit(smoothing_level=.8)\n",
        "pred=ses.predict(start=test.index[0],end=test.index[-1])\n",
        "rmse=np.sqrt(mean_squared_error(pred,test['sbi']))\n",
        "score.append(rmse)\n",
        "name.append('Simple exponential smoothing_ sbi')\n",
        "print('RMSE:=',rmse)\n",
        "plot(test['sbi'],pred)"
      ],
      "metadata": {
        "id": "HhWZIkwenuey"
      },
      "execution_count": null,
      "outputs": []
    },
    {
      "cell_type": "code",
      "source": [
        "#Axis\n",
        "ses=SimpleExpSmoothing(stock['axis']).fit(smoothing_level=.85)\n",
        "pred=ses.predict(start=test.index[0],end=test.index[-1])\n",
        "rmse=np.sqrt(mean_squared_error(pred,test['axis']))\n",
        "score.append(rmse)\n",
        "name.append('Simple exponential smoothing_ axis')\n",
        "print('RMSE:=',rmse)\n",
        "plot(test['axis'],pred)"
      ],
      "metadata": {
        "id": "30iVy7P_olgL"
      },
      "execution_count": null,
      "outputs": []
    },
    {
      "cell_type": "code",
      "source": [
        "#maruti\n",
        "ses=SimpleExpSmoothing(stock['maruti']).fit(smoothing_level=.15)\n",
        "pred=ses.predict(start=test.index[0],end=test.index[-1])\n",
        "rmse=np.sqrt(mean_squared_error(pred,test['maruti']))\n",
        "score.append(rmse)\n",
        "name.append('Simple exponential smoothing_ maruti')\n",
        "print('RMSE:=',rmse)\n",
        "plot(test['maruti'],pred)"
      ],
      "metadata": {
        "id": "cj4G4FQfosVO"
      },
      "execution_count": null,
      "outputs": []
    },
    {
      "cell_type": "code",
      "source": [
        "#ashok leyland\n",
        "ses=SimpleExpSmoothing(stock['ashok_leyland']).fit(smoothing_level=.15)\n",
        "pred=ses.predict(start=test.index[0],end=test.index[-1])\n",
        "rmse=np.sqrt(mean_squared_error(pred,test['ashok_leyland']))\n",
        "score.append(rmse)\n",
        "name.append('Simple exponential smoothing_ ashok_leyland')\n",
        "print('RMSE:=',rmse)\n",
        "plot(test['ashok_leyland'],pred)"
      ],
      "metadata": {
        "id": "XnKU0F04ozDA"
      },
      "execution_count": null,
      "outputs": []
    },
    {
      "cell_type": "markdown",
      "source": [
        "# Holt method"
      ],
      "metadata": {
        "id": "9nTJAYpWpL2n"
      }
    },
    {
      "cell_type": "code",
      "source": [
        "#sbi\n",
        "hw=Holt(train['sbi']).fit(smoothing_level=.6,smoothing_slope=.15)\n",
        "pred=hw.predict(start=test.index[0],end=test.index[-1])\n",
        "rmse=np.sqrt(mean_squared_error(pred,test['sbi']))\n",
        "score.append(rmse)\n",
        "name.append('Holt sbi')\n",
        "print('RMSE:=',rmse)\n",
        "plot(test['sbi'],pred)"
      ],
      "metadata": {
        "id": "bCR4jAtipTsq"
      },
      "execution_count": null,
      "outputs": []
    },
    {
      "cell_type": "code",
      "source": [
        "#Axis\n",
        "hw=Holt(train['axis']).fit(smoothing_level=.6,smoothing_slope=.15)\n",
        "pred=hw.predict(start=test.index[0],end=test.index[-1])\n",
        "rmse=np.sqrt(mean_squared_error(pred,test['axis']))\n",
        "score.append(rmse)\n",
        "name.append('Holt axis')\n",
        "print('RMSE:=',rmse)\n",
        "plot(test['axis'],pred)"
      ],
      "metadata": {
        "id": "7pV93aaZqYx-"
      },
      "execution_count": null,
      "outputs": []
    },
    {
      "cell_type": "code",
      "source": [
        "#maruti\n",
        "hw=Holt(train['maruti']).fit(smoothing_level=.6,smoothing_slope=.15)\n",
        "pred=hw.predict(start=test.index[0],end=test.index[-1])\n",
        "rmse=np.sqrt(mean_squared_error(pred,test['maruti']))\n",
        "score.append(rmse)\n",
        "name.append('Holt maruti')\n",
        "print('RMSE:=',rmse)\n",
        "plot(test['maruti'],pred)"
      ],
      "metadata": {
        "id": "cR7N6sezqh6B"
      },
      "execution_count": null,
      "outputs": []
    },
    {
      "cell_type": "code",
      "source": [
        "#ashok leyland\n",
        "hw=Holt(train['ashok_leyland']).fit(smoothing_level=.6,smoothing_slope=.15)\n",
        "pred=hw.predict(start=test.index[0],end=test.index[-1])\n",
        "rmse=np.sqrt(mean_squared_error(pred,test['ashok_leyland']))\n",
        "score.append(rmse)\n",
        "name.append('Holt ashok_leyland')\n",
        "print('RMSE:=',rmse)\n",
        "plot(test['ashok_leyland'],pred)"
      ],
      "metadata": {
        "id": "CcIuGeEUqmqI"
      },
      "execution_count": null,
      "outputs": []
    },
    {
      "cell_type": "markdown",
      "source": [
        "# Holt winter with additive seasonality and additive trend"
      ],
      "metadata": {
        "id": "8QIJnvNLqyCZ"
      }
    },
    {
      "cell_type": "code",
      "source": [
        "#sbi\n",
        "hwe_add=ExponentialSmoothing(train['sbi'],seasonal='add',trend='add',seasonal_periods=4).fit()\n",
        "pred=hw.predict(start=test.index[0],end=test.index[-1])\n",
        "rmse=np.sqrt(mean_squared_error(pred,test['sbi']))\n",
        "score.append(rmse)\n",
        "name.append('Holt winter sbi')\n",
        "print('RMSE:=',rmse)\n",
        "plot(test['sbi'],pred)"
      ],
      "metadata": {
        "id": "O2HKv9McrR9U"
      },
      "execution_count": null,
      "outputs": []
    },
    {
      "cell_type": "code",
      "source": [
        "#axis\n",
        "hwe_add=ExponentialSmoothing(train['axis'],seasonal='add',trend='add',seasonal_periods=4).fit()\n",
        "pred=hw.predict(start=test.index[0],end=test.index[-1])\n",
        "rmse=np.sqrt(mean_squared_error(pred,test['axis']))\n",
        "score.append(rmse)\n",
        "name.append('Holt winter axis')\n",
        "print('RMSE:=',rmse)\n",
        "plot(test['axis'],pred)"
      ],
      "metadata": {
        "id": "zdWqTR3GrRkE"
      },
      "execution_count": null,
      "outputs": []
    },
    {
      "cell_type": "code",
      "source": [
        "#maruti\n",
        "hwe_add=ExponentialSmoothing(train['maruti'],seasonal='add',trend='add',seasonal_periods=4).fit()\n",
        "pred=hw.predict(start=test.index[0],end=test.index[-1])\n",
        "rmse=np.sqrt(mean_squared_error(pred,test['maruti']))\n",
        "score.append(rmse)\n",
        "name.append('Holt winter maruti')\n",
        "print('RMSE:=',rmse)\n",
        "plot(test['maruti'],pred)"
      ],
      "metadata": {
        "id": "nbzUn1cBrRHM"
      },
      "execution_count": null,
      "outputs": []
    },
    {
      "cell_type": "code",
      "source": [
        "#ashok leyland\n",
        "hwe_add=ExponentialSmoothing(train['ashok_leyland'],seasonal='add',trend='add',seasonal_periods=4).fit()\n",
        "pred=hw.predict(start=test.index[0],end=test.index[-1])\n",
        "rmse=np.sqrt(mean_squared_error(pred,test['ashok_leyland']))\n",
        "score.append(rmse)\n",
        "name.append('Holt winter ashok_leyland')\n",
        "print('RMSE:=',rmse)\n",
        "plot(test['ashok_leyland'],pred)"
      ],
      "metadata": {
        "id": "FPMZaWKhq3w5"
      },
      "execution_count": null,
      "outputs": []
    },
    {
      "cell_type": "markdown",
      "source": [
        "# Navie model"
      ],
      "metadata": {
        "id": "SVVJnf4U9szz"
      }
    },
    {
      "cell_type": "markdown",
      "source": [
        "**SBI**"
      ],
      "metadata": {
        "id": "9Losrw3WLHLu"
      }
    },
    {
      "cell_type": "code",
      "execution_count": null,
      "metadata": {
        "id": "CXQBrdqWCbEz"
      },
      "outputs": [],
      "source": [
        "train=stock['sbi'].head(744).values\n",
        "test=stock['sbi'].tail(186).values\n",
        "history=[x for x in train]\n",
        "history\n",
        "predictions =[]\n",
        "for i in range(len(test)):\n",
        "  yhat = history[-1]\n",
        "  predictions.append(yhat)\n",
        "# observation\n",
        "  obs = test[i]\n",
        "  history.append(obs)\n",
        "  print('>Predicted=%.3f, Expected=%.3f' % (yhat, obs))\n",
        "# report performance\n",
        "rmse = np.sqrt(mean_squared_error(test, predictions))\n",
        "print('RMSE: %.3f' % rmse)"
      ]
    },
    {
      "cell_type": "markdown",
      "source": [
        "**Axis**"
      ],
      "metadata": {
        "id": "to98tGGBLStx"
      }
    },
    {
      "cell_type": "code",
      "source": [
        "train=stock['axis'].head(744).values\n",
        "test=stock['axis'].tail(186).values\n",
        "history=[x for x in train]\n",
        "history\n",
        "predictions =[]\n",
        "for i in range(len(test)):\n",
        "  yhat = history[-1]\n",
        "  predictions.append(yhat)\n",
        "# observation\n",
        "  obs = test[i]\n",
        "  history.append(obs)\n",
        "  print('>Predicted=%.3f, Expected=%.3f' % (yhat, obs))\n",
        "# report performance\n",
        "rmse = np.sqrt(mean_squared_error(test, predictions))\n",
        "print('RMSE: %.3f' % rmse)"
      ],
      "metadata": {
        "id": "XPRgmrSsIpYT"
      },
      "execution_count": null,
      "outputs": []
    },
    {
      "cell_type": "markdown",
      "source": [
        "**Maruti**"
      ],
      "metadata": {
        "id": "U4KWlIPgLbQQ"
      }
    },
    {
      "cell_type": "code",
      "source": [
        "train=stock['maruti'].head(744).values\n",
        "test=stock['maruti'].tail(186).values\n",
        "history=[x for x in train]\n",
        "history\n",
        "predictions =[]\n",
        "for i in range(len(test)):\n",
        "  yhat = history[-1]\n",
        "  predictions.append(yhat)\n",
        "# observation\n",
        "  obs = test[i]\n",
        "  history.append(obs)\n",
        "  print('>Predicted=%.3f, Expected=%.3f' % (yhat, obs))\n",
        "# report performance\n",
        "rmse = np.sqrt(mean_squared_error(test, predictions))\n",
        "print('RMSE: %.3f' % rmse)"
      ],
      "metadata": {
        "id": "5aP0bWT4Lc2p"
      },
      "execution_count": null,
      "outputs": []
    },
    {
      "cell_type": "markdown",
      "source": [
        "**ashok leyland**"
      ],
      "metadata": {
        "id": "UfyzOzLwLmHr"
      }
    },
    {
      "cell_type": "code",
      "source": [
        "train=stock['ashok_leyland'].head(744).values\n",
        "test=stock['ashok_leyland'].tail(186).values\n",
        "history=[x for x in train]\n",
        "history\n",
        "predictions =[]\n",
        "for i in range(len(test)):\n",
        "  yhat = history[-1]\n",
        "  predictions.append(yhat)\n",
        "# observation\n",
        "  obs = test[i]\n",
        "  history.append(obs)\n",
        "  print('>Predicted=%.3f, Expected=%.3f' % (yhat, obs))\n",
        "# report performance\n",
        "rmse = np.sqrt(mean_squared_error(test, predictions))\n",
        "print('RMSE: %.3f' % rmse)"
      ],
      "metadata": {
        "id": "xmukcGYwLoe4"
      },
      "execution_count": null,
      "outputs": []
    },
    {
      "cell_type": "markdown",
      "source": [
        "# ARIMA"
      ],
      "metadata": {
        "id": "zBrfDD0hL5i3"
      }
    },
    {
      "cell_type": "code",
      "source": [
        "# grid search ARIMA parameters for a time series\n",
        "\n",
        "import warnings\n",
        "from pandas import read_csv\n",
        "from statsmodels.tsa.arima_model import ARIMA\n",
        "from sklearn.metrics import mean_squared_error\n",
        "from math import sqrt\n",
        "\n",
        "\n",
        "# evaluate an ARIMA model for a given order (p,d,q) and return RMSE\n",
        "def evaluate_arima_model(X, arima_order):\n",
        "# prepare training dataset\n",
        "    X = X.astype('float32')\n",
        "    train_size = int(len(X) * 0.50)\n",
        "    train, test = X[0:train_size], X[train_size:]\n",
        "    history = [x for x in train]\n",
        "# make predictions\n",
        "    predictions = list()\n",
        "    for t in range(len(test)):\n",
        "        model = ARIMA(history, order=arima_order)\n",
        "# model_fit = model.fit(disp=0)\n",
        "        model_fit = model.fit(disp=0)\n",
        "        yhat = model_fit.forecast()[0]\n",
        "        predictions.append(yhat)\n",
        "        history.append(test[t])\n",
        "# calculate out of sample error\n",
        "    rmse = sqrt(mean_squared_error(test, predictions))\n",
        "    return rmse"
      ],
      "metadata": {
        "id": "nHJXyvmGL9FF"
      },
      "execution_count": null,
      "outputs": []
    },
    {
      "cell_type": "code",
      "source": [
        "# evaluate combinations of p, d and q values for an ARIMA model\n",
        "def evaluate_models(dataset, p_values, d_values, q_values):\n",
        "    dataset = dataset.astype('float32')\n",
        "    best_score, best_cfg = float('inf'), None\n",
        "    for p in p_values:\n",
        "        for d in d_values:\n",
        "            for q in q_values:\n",
        "                order = (p,d,q)\n",
        "                try:\n",
        "                    rmse = evaluate_arima_model(train, order)\n",
        "                    if rmse < best_score:\n",
        "                        best_score, best_cfg = rmse, order\n",
        "                    print('ARIMA%s RMSE=%.3f' % (order,rmse))\n",
        "                except:\n",
        "                    continue\n",
        "    print('Best ARIMA%s RMSE=%.3f' % (best_cfg, best_score)) "
      ],
      "metadata": {
        "id": "YROwg0mxL_7W"
      },
      "execution_count": null,
      "outputs": []
    },
    {
      "cell_type": "code",
      "source": [
        "import warnings\n",
        "# evaluate parameters\n",
        "p_values = range(0, 3)\n",
        "d_values = range(0, 3)\n",
        "q_values = range(0, 3)\n",
        "warnings.filterwarnings(\"ignore\")"
      ],
      "metadata": {
        "id": "581jZTUyMBlc"
      },
      "execution_count": null,
      "outputs": []
    },
    {
      "cell_type": "code",
      "source": [
        "#SBI\n",
        "train=stock['sbi'].head(744).values\n",
        "test=stock['sbi'].tail(186).values\n",
        "#evaluate_models(train, p_values, d_values, q_values)     #Best ARIMA(1, 0, 1) RMSE=101.214"
      ],
      "metadata": {
        "id": "kuFgoQBbTMVf"
      },
      "execution_count": null,
      "outputs": []
    },
    {
      "cell_type": "code",
      "source": [
        "#Axis\n",
        "train=stock['axis'].head(744).values\n",
        "test=stock['axis'].tail(186).values\n",
        "#evaluate_models(train, p_values, d_values, q_values)         #Best ARIMA(1, 0, 0) RMSE=90.375"
      ],
      "metadata": {
        "id": "YnjnpKnuTZKv"
      },
      "execution_count": null,
      "outputs": []
    },
    {
      "cell_type": "code",
      "source": [
        "#Maruti\n",
        "train=stock['maruti'].head(744).values\n",
        "test=stock['maruti'].tail(186).values\n",
        "#evaluate_models(train, p_values, d_values, q_values)       #Best ARIMA(0, 1, 1) RMSE=136.388"
      ],
      "metadata": {
        "id": "61495HmRTcjG"
      },
      "execution_count": null,
      "outputs": []
    },
    {
      "cell_type": "code",
      "source": [
        "#ashok leyland\n",
        "train=stock['ashok_leyland'].head(744).values\n",
        "test=stock['ashok_leyland'].tail(186).values\n",
        "#evaluate_models(train, p_values, d_values, q_values)         #Best ARIMA(1, 1, 1) RMSE=3.064"
      ],
      "metadata": {
        "id": "5RJHelGvTgIp"
      },
      "execution_count": null,
      "outputs": []
    },
    {
      "cell_type": "code",
      "source": [
        "#manually appending the score\n",
        "score.append(101.214)\n",
        "name.append('ARIMA sbi')\n",
        "score.append(90.375)\n",
        "name.append('ARIMA Axis bank')\n",
        "score.append(136.388)\n",
        "name.append('ARIMA maruti')\n",
        "score.append(3.064)\n",
        "name.append('ARIMA ashok leyland')"
      ],
      "metadata": {
        "id": "zjy34zwGBz6E"
      },
      "execution_count": null,
      "outputs": []
    },
    {
      "cell_type": "markdown",
      "source": [
        "# FBprophet"
      ],
      "metadata": {
        "id": "ibEcYicXzg-0"
      }
    },
    {
      "cell_type": "code",
      "source": [
        "!pip install pystan~=2.14\n",
        "!pip install fbprophet"
      ],
      "metadata": {
        "id": "3Z8FMMUr4BUp"
      },
      "execution_count": null,
      "outputs": []
    },
    {
      "cell_type": "code",
      "source": [
        "from fbprophet import Prophet\n",
        "def fbprof_model(data,stock_name):\n",
        "  df=pd.DataFrame()\n",
        "  #data frame\n",
        "  df['ds']=data['Date']\n",
        "  df['ds']=pd.to_datetime(df['ds'])\n",
        "  df['y']=data[stock_name]\n",
        "  #splitting for validation\n",
        "  train_size=int(len(df)*.85)\n",
        "  test_size=int(len(df)*.15)\n",
        "  train=df.head(train_size)\n",
        "  test=df.tail(test_size)\n",
        "  #model building\n",
        "  model=Prophet(weekly_seasonality=True)\n",
        "  model.fit(train)\n",
        "  #Creating the dates for predictions\n",
        "  future_dates=model.make_future_dataframe(periods=test_size,freq='W')    #predictions for test _size  weeks freq=week basis\n",
        "  predictions=model.predict(future_dates)\n",
        "  #evaluation\n",
        "  rmse=np.sqrt(mean_squared_error(test['y'],predictions['yhat'].tail(test_size)))\n",
        "  score.append(rmse)\n",
        "  mod='Fbprophet'+'  '+stock_name\n",
        "  name.append(mod)\n",
        "  print('RMSE:=',rmse)\n",
        "  plot(test['y'],predictions['yhat'].tail(test_size))\n",
        "  model.plot(predictions)\n",
        "  model.plot_components(predictions)"
      ],
      "metadata": {
        "id": "YHh2BeNR49fM"
      },
      "execution_count": null,
      "outputs": []
    },
    {
      "cell_type": "code",
      "source": [
        "fbprof_model(stock,'sbi') #241."
      ],
      "metadata": {
        "id": "P_iZ4SYxf1Wh"
      },
      "execution_count": null,
      "outputs": []
    },
    {
      "cell_type": "code",
      "source": [
        "fbprof_model(stock,'axis')  #203"
      ],
      "metadata": {
        "id": "x3CC5CIfiZL0"
      },
      "execution_count": null,
      "outputs": []
    },
    {
      "cell_type": "code",
      "source": [
        "fbprof_model(stock,'maruti')#2039"
      ],
      "metadata": {
        "id": "vMYY55NBil23"
      },
      "execution_count": null,
      "outputs": []
    },
    {
      "cell_type": "code",
      "source": [
        "fbprof_model(stock,'ashok_leyland')"
      ],
      "metadata": {
        "id": "FiNhvDhTiwh_"
      },
      "execution_count": null,
      "outputs": []
    },
    {
      "cell_type": "markdown",
      "source": [
        "# LSTM"
      ],
      "metadata": {
        "id": "pjG5wQYo7_UD"
      }
    },
    {
      "cell_type": "code",
      "source": [
        "# convert an array of values into a dataset matrix\n",
        "def create_dataset(dataset, time_step=1):\n",
        "\tdataX, dataY = [], []\n",
        "\tfor i in range(len(dataset)-time_step-1):\n",
        "\t\ta = dataset[i:(i+time_step), 0]   ###i=0, 0,1,2,3-----99   100 \n",
        "\t\tdataX.append(a)\n",
        "\t\tdataY.append(dataset[i + time_step, 0])\n",
        "\treturn np.array(dataX), np.array(dataY)"
      ],
      "metadata": {
        "id": "-6U_JF6nCVDH"
      },
      "execution_count": null,
      "outputs": []
    },
    {
      "cell_type": "code",
      "source": [
        "from sklearn.preprocessing import MinMaxScaler"
      ],
      "metadata": {
        "id": "D2Lr0V50NfVM"
      },
      "execution_count": null,
      "outputs": []
    },
    {
      "cell_type": "code",
      "source": [
        "def lstm(data,stock_name):\n",
        "  df=pd.DataFrame()\n",
        "  df[stock_name]=data[stock_name]\n",
        "  #Scaling operation\n",
        "  from sklearn.preprocessing import MinMaxScaler\n",
        "  scaler=MinMaxScaler(feature_range=(0,1))\n",
        "  df=scaler.fit_transform(np.array(df).reshape(-1,1))\n",
        "  ##splitting dataset into train and test split\n",
        "  training_size=int(len(df)*0.75)\n",
        "  test_size=len(df)-training_size\n",
        "  train_data,test_data=df[0:training_size,:],df[training_size:len(df),:]\n",
        "  # reshape into X=t,t+1,t+2,t+3 and Y=t+4\n",
        "  time_step = 100\n",
        "  X_train, y_train = create_dataset(train_data, time_step)\n",
        "  X_test, ytest = create_dataset(test_data, time_step)\n",
        "  # reshape input to be [samples, time steps, features] which is required for LSTM\n",
        "  X_train =X_train.reshape(X_train.shape[0],X_train.shape[1] , 1)\n",
        "  X_test = X_test.reshape(X_test.shape[0],X_test.shape[1] , 1)\n",
        "  #model building\n",
        "  model.fit(X_train,y_train,validation_data=(X_test,ytest),epochs=100,batch_size=64,verbose=1)\n",
        "  ### Lets Do the prediction and check performance metrics\n",
        "  train_predict=model.predict(X_train)\n",
        "  test_predict=model.predict(X_test)\n",
        "  ##Transformback to original form\n",
        "  train_predict=scaler.inverse_transform(train_predict)\n",
        "  test_predict=scaler.inverse_transform(test_predict)\n",
        "  np.sqrt(mean_squared_error(y_train,train_predict))\n",
        "  rmse=np.sqrt(mean_squared_error(ytest,test_predict))\n",
        "  #score\n",
        "  score.append(rmse)\n",
        "  mod='LSTM model '+stock_name\n",
        "  name.append(mod)\n",
        "  print('RMSE:========>>>>>>>',rmse)"
      ],
      "metadata": {
        "id": "eOZKeqk52W3G"
      },
      "execution_count": null,
      "outputs": []
    },
    {
      "cell_type": "code",
      "source": [
        "#def lstm(data,stock_name):\n",
        "  df=pd.DataFrame()\n",
        "  df[stock_name]=data[stock_name]\n",
        "  #Scaling operation\n",
        "  from sklearn.preprocessing import MinMaxScaler\n",
        "  scaler=MinMaxScaler(feature_range=(0,1))\n",
        "  df1=scaler.fit_transform(np.array(df1).reshape(-1,1))\n",
        "  #splitting the data\n",
        "  training_size=int(len(df_sbi)*.75)\n",
        "  test_size=int(len(df_sbi)*.25)\n",
        "  train_data,test_data=df[0:training_size,:],df[training_size:,:]\n",
        "  # reshape into X=t,t+1,t+2,t+3 and Y=t+4\n",
        "  time_step = 100\n",
        "  X_train, y_train = create_dataset(train_data, time_step)\n",
        "  X_test, ytest = create_dataset(test_data, time_step)\n",
        "  # reshape input to be [samples, time steps, features] which is required for LSTM\n",
        "  X_train =X_train.reshape(X_train.shape[0],X_train.shape[1] , 1)\n",
        "  X_test = X_test.reshape(X_test.shape[0],X_test.shape[1] , 1)\n",
        "  #model building\n",
        "  model.fit(X_train,y_train,validation_data=(X_test,ytest),epochs=100,batch_size=64,verbose=1)\n",
        "  ### Lets Do the prediction and check performance metrics\n",
        "  train_predict=model.predict(X_train)\n",
        "  test_predict=model.predict(X_test)\n",
        "  ##Transformback to original form\n",
        "  train_predict=scaler.inverse_transform(train_predict)\n",
        "  test_predict=scaler.inverse_transform(test_predict)\n",
        "  np.sqrt(mean_squared_error(y_train,train_predict))\n",
        "  rmse=np.sqrt(mean_squared_error(ytest,test_predict))\n",
        "  #score\n",
        "  score.append(rmse)\n",
        "  mod='LSTM model '+stock_name\n",
        "  name.append(mod)\n",
        "  print('RMSE:========>>>>>>>',rmse)"
      ],
      "metadata": {
        "id": "VcthUFJiPIH7"
      },
      "execution_count": null,
      "outputs": []
    },
    {
      "cell_type": "code",
      "source": [
        "### Create the Stacked LSTM model\n",
        "from tensorflow.keras.models import Sequential\n",
        "from tensorflow.keras.layers import Dense\n",
        "from tensorflow.keras.layers import LSTM"
      ],
      "metadata": {
        "id": "TTYY4rkzELQv"
      },
      "execution_count": null,
      "outputs": []
    },
    {
      "cell_type": "code",
      "source": [
        "model=Sequential()\n",
        "model.add(LSTM(50,return_sequences=True,input_shape=(100,1)))\n",
        "model.add(LSTM(50,return_sequences=True))\n",
        "model.add(LSTM(50))\n",
        "model.add(Dense(1))\n",
        "model.compile(loss='mean_squared_error',optimizer='adam')"
      ],
      "metadata": {
        "id": "v9qknU9zENN8"
      },
      "execution_count": null,
      "outputs": []
    },
    {
      "cell_type": "code",
      "source": [
        "lstm(stock,'sbi')"
      ],
      "metadata": {
        "id": "ADc3u4UV32my"
      },
      "execution_count": null,
      "outputs": []
    },
    {
      "cell_type": "code",
      "source": [
        "lstm(stock,'axis')"
      ],
      "metadata": {
        "id": "ErsOTRZo5N05"
      },
      "execution_count": null,
      "outputs": []
    },
    {
      "cell_type": "code",
      "source": [
        "lstm(stock,'maruti')"
      ],
      "metadata": {
        "id": "uuFC4cpj6Qex"
      },
      "execution_count": null,
      "outputs": []
    },
    {
      "cell_type": "code",
      "source": [
        "lstm(stock,'ashok_leyland')"
      ],
      "metadata": {
        "id": "pXocTv_86Shp"
      },
      "execution_count": null,
      "outputs": []
    },
    {
      "cell_type": "markdown",
      "source": [
        "# Score"
      ],
      "metadata": {
        "id": "N9Hb5pLeeklB"
      }
    },
    {
      "cell_type": "code",
      "source": [
        "scoring=pd.DataFrame()\n",
        "scoring['Name']=name\n",
        "scoring['Score']=score"
      ],
      "metadata": {
        "id": "OtB0W1gHcmVM"
      },
      "execution_count": null,
      "outputs": []
    },
    {
      "cell_type": "code",
      "source": [
        "scoring.sort_values('Score')"
      ],
      "metadata": {
        "id": "2ZmBTYA5czJO"
      },
      "execution_count": null,
      "outputs": []
    },
    {
      "cell_type": "markdown",
      "source": [
        "# Final scoring"
      ],
      "metadata": {
        "id": "GFvr3VJ9BQg7"
      }
    },
    {
      "cell_type": "code",
      "source": [
        "score_axis=pd.DataFrame()\n",
        "score_sbi=pd.DataFrame()\n",
        "score_maruti=pd.DataFrame()\n",
        "score_ashok=pd.DataFrame()"
      ],
      "metadata": {
        "id": "uSGEF-yw9rpb"
      },
      "execution_count": null,
      "outputs": []
    },
    {
      "cell_type": "code",
      "source": [
        "score_axis=scoring[scoring['Name'].str.contains(r'axis')]\n",
        "score_sbi=scoring[scoring['Name'].str.contains(r'sbi')]\n",
        "score_maruti=scoring[scoring['Name'].str.contains(r'maruti')]\n",
        "score_ashok=scoring[scoring['Name'].str.contains(r'leyland')]"
      ],
      "metadata": {
        "id": "aB6j8A5sAQBD"
      },
      "execution_count": null,
      "outputs": []
    },
    {
      "cell_type": "code",
      "source": [
        "scoring"
      ],
      "metadata": {
        "id": "KZb7wG2_TM5e"
      },
      "execution_count": null,
      "outputs": []
    },
    {
      "cell_type": "code",
      "source": [
        "#sbi bank\n",
        "score_sbi.sort_values('Score')"
      ],
      "metadata": {
        "id": "DrdpwpLZBTwT"
      },
      "execution_count": null,
      "outputs": []
    },
    {
      "cell_type": "code",
      "source": [
        "#Axis bank\n",
        "score_axis.sort_values('Score')"
      ],
      "metadata": {
        "id": "dE4WfLiyAZD_"
      },
      "execution_count": null,
      "outputs": []
    },
    {
      "cell_type": "code",
      "source": [
        "#maruti bank\n",
        "score_maruti.sort_values('Score')"
      ],
      "metadata": {
        "id": "d-issM7WBZQV"
      },
      "execution_count": null,
      "outputs": []
    },
    {
      "cell_type": "code",
      "source": [
        "#maruti bank\n",
        "score_ashok.sort_values('Score')"
      ],
      "metadata": {
        "id": "Qq4vNDHSBgi6"
      },
      "execution_count": null,
      "outputs": []
    },
    {
      "cell_type": "markdown",
      "source": [
        "# Final model"
      ],
      "metadata": {
        "id": "CtkuS2gLJ2rU"
      }
    },
    {
      "cell_type": "code",
      "source": [],
      "metadata": {
        "id": "h7PkT90mYFO8"
      },
      "execution_count": null,
      "outputs": []
    }
  ],
  "metadata": {
    "colab": {
      "collapsed_sections": [
        "a0lOs2pTvFux",
        "jGfp2-mnvAm_",
        "IKe2yZF6u8ck",
        "jYg7Ao3hu3_R",
        "jnYWrkrCuzMr",
        "hEVNO81ylcw3",
        "Wf05Mekl5S0z",
        "kDkAKj3PZ6mq",
        "zFY4aL2uirWv",
        "8XFppukCmB40",
        "eD5NIYPfLllk",
        "tjHM-dU396Cb",
        "8yKpdDKmCvrJ",
        "5qJXZF80EfYO",
        "osObZUXNGPuT",
        "3P6xJvhCZMpc",
        "CXsa6umCamyS",
        "86r4JNLynieX",
        "9nTJAYpWpL2n",
        "8QIJnvNLqyCZ",
        "SVVJnf4U9szz",
        "zBrfDD0hL5i3",
        "ibEcYicXzg-0",
        "N9Hb5pLeeklB"
      ],
      "provenance": []
    },
    "kernelspec": {
      "display_name": "Python 3",
      "language": "python",
      "name": "python3"
    },
    "language_info": {
      "codemirror_mode": {
        "name": "ipython",
        "version": 3
      },
      "file_extension": ".py",
      "mimetype": "text/x-python",
      "name": "python",
      "nbconvert_exporter": "python",
      "pygments_lexer": "ipython3",
      "version": "3.9.1"
    }
  },
  "nbformat": 4,
  "nbformat_minor": 0
}